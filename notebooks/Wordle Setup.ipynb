{
 "cells": [
  {
   "cell_type": "code",
   "execution_count": 1,
   "id": "18df8dff",
   "metadata": {},
   "outputs": [],
   "source": [
    "import pandas as pd\n",
    "import numpy as np\n",
    "import matplotlib.pyplot as plt\n",
    "import seaborn as sns\n",
    "\n",
    "import string\n",
    "import pickle"
   ]
  },
  {
   "cell_type": "code",
   "execution_count": 2,
   "id": "579f6d4c",
   "metadata": {},
   "outputs": [],
   "source": [
    "# I looked at the Wordle source code and found the word bank used in each puzzle.\n",
    "# There are two arrays in the source code.\n",
    "# The first contains a list of every word that can be a solution to the puzzle.\n",
    "# The second contains a list of words that are accepted as guesses, but will never be the solution to the puzzle.\n",
    "\n",
    "with open('../data/wordle_words.txt') as file:\n",
    "    solution_words = eval(file.readline())\n",
    "    other_words = eval(file.readline())"
   ]
  },
  {
   "cell_type": "code",
   "execution_count": 3,
   "id": "410a391d",
   "metadata": {},
   "outputs": [
    {
     "data": {
      "text/plain": [
       "(2315, 10657)"
      ]
     },
     "execution_count": 3,
     "metadata": {},
     "output_type": "execute_result"
    }
   ],
   "source": [
    "# The word bank contains ~2,300 potential solutions, with ~10,000 additional words that are acceptable guesses.\n",
    "\n",
    "len(solution_words), len(other_words)"
   ]
  },
  {
   "cell_type": "code",
   "execution_count": 4,
   "id": "a7b7b605",
   "metadata": {},
   "outputs": [
    {
     "data": {
      "text/plain": [
       "12972"
      ]
     },
     "execution_count": 4,
     "metadata": {},
     "output_type": "execute_result"
    }
   ],
   "source": [
    "# In total, there are ~13,000 words.\n",
    "\n",
    "all_words = solution_words + other_words\n",
    "len(all_words)"
   ]
  },
  {
   "cell_type": "code",
   "execution_count": 5,
   "id": "bb47992f",
   "metadata": {},
   "outputs": [],
   "source": [
    "# To start, I will create a pandas DataFrame using the available words as an index:\n",
    "\n",
    "words = pd.DataFrame(index=all_words)\n",
    "\n",
    "# A word is considered valid if it is contained in the solution set.\n",
    "words['is_valid'] = True\n",
    "words['is_valid'] = words.mask(~words.loc[solution_words], False)"
   ]
  },
  {
   "cell_type": "code",
   "execution_count": 6,
   "id": "e95ca06f",
   "metadata": {
    "scrolled": false
   },
   "outputs": [
    {
     "data": {
      "text/plain": [
       "False    10657\n",
       "True      2315\n",
       "Name: is_valid, dtype: int64"
      ]
     },
     "execution_count": 6,
     "metadata": {},
     "output_type": "execute_result"
    }
   ],
   "source": [
    "# I double-check the counts for valid and invalid words to make sure that they match the original lists:\n",
    "\n",
    "words['is_valid'].value_counts()"
   ]
  },
  {
   "cell_type": "code",
   "execution_count": 7,
   "id": "e19d540b",
   "metadata": {},
   "outputs": [],
   "source": [
    "# There are two main features I use for each word:\n",
    "# The first is the count of each letter within the word.\n",
    "# The second is the count of each letter at a specific position (1, 2, 3, 4, 5) within the word.\n",
    "\n",
    "letters = [letter for letter in string.ascii_lowercase]\n",
    "positions = [f'{position}{letter}' for letter in letters for position in range(1, 6)]"
   ]
  },
  {
   "cell_type": "code",
   "execution_count": 8,
   "id": "2d72f82f",
   "metadata": {
    "scrolled": true
   },
   "outputs": [
    {
     "data": {
      "text/html": [
       "<div>\n",
       "<style scoped>\n",
       "    .dataframe tbody tr th:only-of-type {\n",
       "        vertical-align: middle;\n",
       "    }\n",
       "\n",
       "    .dataframe tbody tr th {\n",
       "        vertical-align: top;\n",
       "    }\n",
       "\n",
       "    .dataframe thead th {\n",
       "        text-align: right;\n",
       "    }\n",
       "</style>\n",
       "<table border=\"1\" class=\"dataframe\">\n",
       "  <thead>\n",
       "    <tr style=\"text-align: right;\">\n",
       "      <th></th>\n",
       "      <th>is_valid</th>\n",
       "      <th>1</th>\n",
       "      <th>2</th>\n",
       "      <th>3</th>\n",
       "      <th>4</th>\n",
       "      <th>5</th>\n",
       "    </tr>\n",
       "  </thead>\n",
       "  <tbody>\n",
       "    <tr>\n",
       "      <th>cigar</th>\n",
       "      <td>True</td>\n",
       "      <td>c</td>\n",
       "      <td>i</td>\n",
       "      <td>g</td>\n",
       "      <td>a</td>\n",
       "      <td>r</td>\n",
       "    </tr>\n",
       "    <tr>\n",
       "      <th>rebut</th>\n",
       "      <td>True</td>\n",
       "      <td>r</td>\n",
       "      <td>e</td>\n",
       "      <td>b</td>\n",
       "      <td>u</td>\n",
       "      <td>t</td>\n",
       "    </tr>\n",
       "    <tr>\n",
       "      <th>sissy</th>\n",
       "      <td>True</td>\n",
       "      <td>s</td>\n",
       "      <td>i</td>\n",
       "      <td>s</td>\n",
       "      <td>s</td>\n",
       "      <td>y</td>\n",
       "    </tr>\n",
       "    <tr>\n",
       "      <th>humph</th>\n",
       "      <td>True</td>\n",
       "      <td>h</td>\n",
       "      <td>u</td>\n",
       "      <td>m</td>\n",
       "      <td>p</td>\n",
       "      <td>h</td>\n",
       "    </tr>\n",
       "    <tr>\n",
       "      <th>awake</th>\n",
       "      <td>True</td>\n",
       "      <td>a</td>\n",
       "      <td>w</td>\n",
       "      <td>a</td>\n",
       "      <td>k</td>\n",
       "      <td>e</td>\n",
       "    </tr>\n",
       "  </tbody>\n",
       "</table>\n",
       "</div>"
      ],
      "text/plain": [
       "       is_valid  1  2  3  4  5\n",
       "cigar      True  c  i  g  a  r\n",
       "rebut      True  r  e  b  u  t\n",
       "sissy      True  s  i  s  s  y\n",
       "humph      True  h  u  m  p  h\n",
       "awake      True  a  w  a  k  e"
      ]
     },
     "execution_count": 8,
     "metadata": {},
     "output_type": "execute_result"
    }
   ],
   "source": [
    "# I construct five columns representing the first through the fifth letter in each word:\n",
    "\n",
    "for position in range(1, 6):\n",
    "    letter = words.index.str[position - 1]\n",
    "    words[f'{position}'] = letter\n",
    "    \n",
    "words.head()"
   ]
  },
  {
   "cell_type": "code",
   "execution_count": 9,
   "id": "0ea9a428",
   "metadata": {
    "scrolled": true
   },
   "outputs": [
    {
     "data": {
      "text/html": [
       "<div>\n",
       "<style scoped>\n",
       "    .dataframe tbody tr th:only-of-type {\n",
       "        vertical-align: middle;\n",
       "    }\n",
       "\n",
       "    .dataframe tbody tr th {\n",
       "        vertical-align: top;\n",
       "    }\n",
       "\n",
       "    .dataframe thead th {\n",
       "        text-align: right;\n",
       "    }\n",
       "</style>\n",
       "<table border=\"1\" class=\"dataframe\">\n",
       "  <thead>\n",
       "    <tr style=\"text-align: right;\">\n",
       "      <th></th>\n",
       "      <th>is_valid</th>\n",
       "      <th>1</th>\n",
       "      <th>2</th>\n",
       "      <th>3</th>\n",
       "      <th>4</th>\n",
       "      <th>5</th>\n",
       "      <th>a</th>\n",
       "      <th>b</th>\n",
       "      <th>c</th>\n",
       "      <th>d</th>\n",
       "      <th>...</th>\n",
       "      <th>q</th>\n",
       "      <th>r</th>\n",
       "      <th>s</th>\n",
       "      <th>t</th>\n",
       "      <th>u</th>\n",
       "      <th>v</th>\n",
       "      <th>w</th>\n",
       "      <th>x</th>\n",
       "      <th>y</th>\n",
       "      <th>z</th>\n",
       "    </tr>\n",
       "  </thead>\n",
       "  <tbody>\n",
       "    <tr>\n",
       "      <th>cigar</th>\n",
       "      <td>True</td>\n",
       "      <td>c</td>\n",
       "      <td>i</td>\n",
       "      <td>g</td>\n",
       "      <td>a</td>\n",
       "      <td>r</td>\n",
       "      <td>1</td>\n",
       "      <td>0</td>\n",
       "      <td>1</td>\n",
       "      <td>0</td>\n",
       "      <td>...</td>\n",
       "      <td>0</td>\n",
       "      <td>1</td>\n",
       "      <td>0</td>\n",
       "      <td>0</td>\n",
       "      <td>0</td>\n",
       "      <td>0</td>\n",
       "      <td>0</td>\n",
       "      <td>0</td>\n",
       "      <td>0</td>\n",
       "      <td>0</td>\n",
       "    </tr>\n",
       "    <tr>\n",
       "      <th>rebut</th>\n",
       "      <td>True</td>\n",
       "      <td>r</td>\n",
       "      <td>e</td>\n",
       "      <td>b</td>\n",
       "      <td>u</td>\n",
       "      <td>t</td>\n",
       "      <td>0</td>\n",
       "      <td>1</td>\n",
       "      <td>0</td>\n",
       "      <td>0</td>\n",
       "      <td>...</td>\n",
       "      <td>0</td>\n",
       "      <td>1</td>\n",
       "      <td>0</td>\n",
       "      <td>1</td>\n",
       "      <td>1</td>\n",
       "      <td>0</td>\n",
       "      <td>0</td>\n",
       "      <td>0</td>\n",
       "      <td>0</td>\n",
       "      <td>0</td>\n",
       "    </tr>\n",
       "    <tr>\n",
       "      <th>sissy</th>\n",
       "      <td>True</td>\n",
       "      <td>s</td>\n",
       "      <td>i</td>\n",
       "      <td>s</td>\n",
       "      <td>s</td>\n",
       "      <td>y</td>\n",
       "      <td>0</td>\n",
       "      <td>0</td>\n",
       "      <td>0</td>\n",
       "      <td>0</td>\n",
       "      <td>...</td>\n",
       "      <td>0</td>\n",
       "      <td>0</td>\n",
       "      <td>3</td>\n",
       "      <td>0</td>\n",
       "      <td>0</td>\n",
       "      <td>0</td>\n",
       "      <td>0</td>\n",
       "      <td>0</td>\n",
       "      <td>1</td>\n",
       "      <td>0</td>\n",
       "    </tr>\n",
       "    <tr>\n",
       "      <th>humph</th>\n",
       "      <td>True</td>\n",
       "      <td>h</td>\n",
       "      <td>u</td>\n",
       "      <td>m</td>\n",
       "      <td>p</td>\n",
       "      <td>h</td>\n",
       "      <td>0</td>\n",
       "      <td>0</td>\n",
       "      <td>0</td>\n",
       "      <td>0</td>\n",
       "      <td>...</td>\n",
       "      <td>0</td>\n",
       "      <td>0</td>\n",
       "      <td>0</td>\n",
       "      <td>0</td>\n",
       "      <td>1</td>\n",
       "      <td>0</td>\n",
       "      <td>0</td>\n",
       "      <td>0</td>\n",
       "      <td>0</td>\n",
       "      <td>0</td>\n",
       "    </tr>\n",
       "    <tr>\n",
       "      <th>awake</th>\n",
       "      <td>True</td>\n",
       "      <td>a</td>\n",
       "      <td>w</td>\n",
       "      <td>a</td>\n",
       "      <td>k</td>\n",
       "      <td>e</td>\n",
       "      <td>2</td>\n",
       "      <td>0</td>\n",
       "      <td>0</td>\n",
       "      <td>0</td>\n",
       "      <td>...</td>\n",
       "      <td>0</td>\n",
       "      <td>0</td>\n",
       "      <td>0</td>\n",
       "      <td>0</td>\n",
       "      <td>0</td>\n",
       "      <td>0</td>\n",
       "      <td>1</td>\n",
       "      <td>0</td>\n",
       "      <td>0</td>\n",
       "      <td>0</td>\n",
       "    </tr>\n",
       "  </tbody>\n",
       "</table>\n",
       "<p>5 rows × 32 columns</p>\n",
       "</div>"
      ],
      "text/plain": [
       "       is_valid  1  2  3  4  5  a  b  c  d  ...  q  r  s  t  u  v  w  x  y  z\n",
       "cigar      True  c  i  g  a  r  1  0  1  0  ...  0  1  0  0  0  0  0  0  0  0\n",
       "rebut      True  r  e  b  u  t  0  1  0  0  ...  0  1  0  1  1  0  0  0  0  0\n",
       "sissy      True  s  i  s  s  y  0  0  0  0  ...  0  0  3  0  0  0  0  0  1  0\n",
       "humph      True  h  u  m  p  h  0  0  0  0  ...  0  0  0  0  1  0  0  0  0  0\n",
       "awake      True  a  w  a  k  e  2  0  0  0  ...  0  0  0  0  0  0  1  0  0  0\n",
       "\n",
       "[5 rows x 32 columns]"
      ]
     },
     "execution_count": 9,
     "metadata": {},
     "output_type": "execute_result"
    }
   ],
   "source": [
    "# For each letter in the alphabet, I count the occurrences of the letters within each word:\n",
    "\n",
    "for letter in letters:  \n",
    "    words[letter] = 0\n",
    "    for position in range(1, 6):\n",
    "        words[letter] += words[f'{position}'] == letter\n",
    "        \n",
    "words.head()"
   ]
  },
  {
   "cell_type": "code",
   "execution_count": 10,
   "id": "07cc5693",
   "metadata": {
    "scrolled": false
   },
   "outputs": [
    {
     "data": {
      "text/html": [
       "<div>\n",
       "<style scoped>\n",
       "    .dataframe tbody tr th:only-of-type {\n",
       "        vertical-align: middle;\n",
       "    }\n",
       "\n",
       "    .dataframe tbody tr th {\n",
       "        vertical-align: top;\n",
       "    }\n",
       "\n",
       "    .dataframe thead th {\n",
       "        text-align: right;\n",
       "    }\n",
       "</style>\n",
       "<table border=\"1\" class=\"dataframe\">\n",
       "  <thead>\n",
       "    <tr style=\"text-align: right;\">\n",
       "      <th></th>\n",
       "      <th>is_valid</th>\n",
       "      <th>1</th>\n",
       "      <th>2</th>\n",
       "      <th>3</th>\n",
       "      <th>4</th>\n",
       "      <th>5</th>\n",
       "      <th>a</th>\n",
       "      <th>b</th>\n",
       "      <th>c</th>\n",
       "      <th>d</th>\n",
       "      <th>...</th>\n",
       "      <th>5q</th>\n",
       "      <th>5r</th>\n",
       "      <th>5s</th>\n",
       "      <th>5t</th>\n",
       "      <th>5u</th>\n",
       "      <th>5v</th>\n",
       "      <th>5w</th>\n",
       "      <th>5x</th>\n",
       "      <th>5y</th>\n",
       "      <th>5z</th>\n",
       "    </tr>\n",
       "  </thead>\n",
       "  <tbody>\n",
       "    <tr>\n",
       "      <th>cigar</th>\n",
       "      <td>True</td>\n",
       "      <td>c</td>\n",
       "      <td>i</td>\n",
       "      <td>g</td>\n",
       "      <td>a</td>\n",
       "      <td>r</td>\n",
       "      <td>1</td>\n",
       "      <td>0</td>\n",
       "      <td>1</td>\n",
       "      <td>0</td>\n",
       "      <td>...</td>\n",
       "      <td>0</td>\n",
       "      <td>1</td>\n",
       "      <td>0</td>\n",
       "      <td>0</td>\n",
       "      <td>0</td>\n",
       "      <td>0</td>\n",
       "      <td>0</td>\n",
       "      <td>0</td>\n",
       "      <td>0</td>\n",
       "      <td>0</td>\n",
       "    </tr>\n",
       "    <tr>\n",
       "      <th>rebut</th>\n",
       "      <td>True</td>\n",
       "      <td>r</td>\n",
       "      <td>e</td>\n",
       "      <td>b</td>\n",
       "      <td>u</td>\n",
       "      <td>t</td>\n",
       "      <td>0</td>\n",
       "      <td>1</td>\n",
       "      <td>0</td>\n",
       "      <td>0</td>\n",
       "      <td>...</td>\n",
       "      <td>0</td>\n",
       "      <td>0</td>\n",
       "      <td>0</td>\n",
       "      <td>1</td>\n",
       "      <td>0</td>\n",
       "      <td>0</td>\n",
       "      <td>0</td>\n",
       "      <td>0</td>\n",
       "      <td>0</td>\n",
       "      <td>0</td>\n",
       "    </tr>\n",
       "    <tr>\n",
       "      <th>sissy</th>\n",
       "      <td>True</td>\n",
       "      <td>s</td>\n",
       "      <td>i</td>\n",
       "      <td>s</td>\n",
       "      <td>s</td>\n",
       "      <td>y</td>\n",
       "      <td>0</td>\n",
       "      <td>0</td>\n",
       "      <td>0</td>\n",
       "      <td>0</td>\n",
       "      <td>...</td>\n",
       "      <td>0</td>\n",
       "      <td>0</td>\n",
       "      <td>0</td>\n",
       "      <td>0</td>\n",
       "      <td>0</td>\n",
       "      <td>0</td>\n",
       "      <td>0</td>\n",
       "      <td>0</td>\n",
       "      <td>1</td>\n",
       "      <td>0</td>\n",
       "    </tr>\n",
       "    <tr>\n",
       "      <th>humph</th>\n",
       "      <td>True</td>\n",
       "      <td>h</td>\n",
       "      <td>u</td>\n",
       "      <td>m</td>\n",
       "      <td>p</td>\n",
       "      <td>h</td>\n",
       "      <td>0</td>\n",
       "      <td>0</td>\n",
       "      <td>0</td>\n",
       "      <td>0</td>\n",
       "      <td>...</td>\n",
       "      <td>0</td>\n",
       "      <td>0</td>\n",
       "      <td>0</td>\n",
       "      <td>0</td>\n",
       "      <td>0</td>\n",
       "      <td>0</td>\n",
       "      <td>0</td>\n",
       "      <td>0</td>\n",
       "      <td>0</td>\n",
       "      <td>0</td>\n",
       "    </tr>\n",
       "    <tr>\n",
       "      <th>awake</th>\n",
       "      <td>True</td>\n",
       "      <td>a</td>\n",
       "      <td>w</td>\n",
       "      <td>a</td>\n",
       "      <td>k</td>\n",
       "      <td>e</td>\n",
       "      <td>2</td>\n",
       "      <td>0</td>\n",
       "      <td>0</td>\n",
       "      <td>0</td>\n",
       "      <td>...</td>\n",
       "      <td>0</td>\n",
       "      <td>0</td>\n",
       "      <td>0</td>\n",
       "      <td>0</td>\n",
       "      <td>0</td>\n",
       "      <td>0</td>\n",
       "      <td>0</td>\n",
       "      <td>0</td>\n",
       "      <td>0</td>\n",
       "      <td>0</td>\n",
       "    </tr>\n",
       "  </tbody>\n",
       "</table>\n",
       "<p>5 rows × 162 columns</p>\n",
       "</div>"
      ],
      "text/plain": [
       "       is_valid  1  2  3  4  5  a  b  c  d  ...  5q  5r  5s  5t  5u  5v  5w  \\\n",
       "cigar      True  c  i  g  a  r  1  0  1  0  ...   0   1   0   0   0   0   0   \n",
       "rebut      True  r  e  b  u  t  0  1  0  0  ...   0   0   0   1   0   0   0   \n",
       "sissy      True  s  i  s  s  y  0  0  0  0  ...   0   0   0   0   0   0   0   \n",
       "humph      True  h  u  m  p  h  0  0  0  0  ...   0   0   0   0   0   0   0   \n",
       "awake      True  a  w  a  k  e  2  0  0  0  ...   0   0   0   0   0   0   0   \n",
       "\n",
       "       5x  5y  5z  \n",
       "cigar   0   0   0  \n",
       "rebut   0   0   0  \n",
       "sissy   0   1   0  \n",
       "humph   0   0   0  \n",
       "awake   0   0   0  \n",
       "\n",
       "[5 rows x 162 columns]"
      ]
     },
     "execution_count": 10,
     "metadata": {},
     "output_type": "execute_result"
    }
   ],
   "source": [
    "# To count the occurrences at each position, I use pandas' get_dummies function.\n",
    "# This creates a column for every combination of (position, letter). \n",
    "# The value for each column is 1 if the letter is present in that position, and 0 if it is not present.\n",
    "\n",
    "words = pd.concat([words, pd.get_dummies(words[['1', '2', '3', '4', '5']], prefix_sep='')], axis=1)\n",
    "words.head()"
   ]
  },
  {
   "cell_type": "code",
   "execution_count": 11,
   "id": "33108fa3",
   "metadata": {},
   "outputs": [],
   "source": [
    "# To make the first guess, I need to find the best word based on a metric.\n",
    "# My metric is the sum of two scores:\n",
    "# 1. Position score: how many valid words contain this letter in this specific position?\n",
    "# 2. Letter score: how many valid words contain this letter in any position?\n",
    "\n",
    "# To calculate these scores, I first need a list of each valid word:\n",
    "\n",
    "valid_words = words[words['is_valid']]\n",
    "\n",
    "valid_positions = valid_words[positions].values\n",
    "\n",
    "total_valid_words = valid_words.shape[0]"
   ]
  },
  {
   "cell_type": "code",
   "execution_count": 12,
   "id": "47ed5984",
   "metadata": {
    "scrolled": true
   },
   "outputs": [
    {
     "data": {
      "text/plain": [
       "s    366\n",
       "c    198\n",
       "b    173\n",
       "t    149\n",
       "p    142\n",
       "Name: 1, dtype: int64"
      ]
     },
     "execution_count": 12,
     "metadata": {},
     "output_type": "execute_result"
    }
   ],
   "source": [
    "# Before I continue, I want to take a look at some of the features in the word bank.\n",
    "# These are the five most common letters in the first position of words that are potential solutions:\n",
    "\n",
    "valid_words['1'].value_counts().head()\n",
    "\n",
    "# Interestingly, no vowels show up in the top five letters."
   ]
  },
  {
   "cell_type": "code",
   "execution_count": 13,
   "id": "ace90852",
   "metadata": {},
   "outputs": [
    {
     "data": {
      "text/plain": [
       "a    304\n",
       "o    279\n",
       "r    267\n",
       "e    242\n",
       "i    202\n",
       "Name: 2, dtype: int64"
      ]
     },
     "execution_count": 13,
     "metadata": {},
     "output_type": "execute_result"
    }
   ],
   "source": [
    "# These are the five most common letters in the second position of words that are potential solutions:\n",
    "\n",
    "valid_words['2'].value_counts().head()"
   ]
  },
  {
   "cell_type": "code",
   "execution_count": 14,
   "id": "812acf17",
   "metadata": {},
   "outputs": [
    {
     "data": {
      "text/plain": [
       "a    307\n",
       "i    266\n",
       "o    244\n",
       "e    177\n",
       "u    165\n",
       "Name: 3, dtype: int64"
      ]
     },
     "execution_count": 14,
     "metadata": {},
     "output_type": "execute_result"
    }
   ],
   "source": [
    "# These are the five most common letters in the third position of words that are potential solutions:\n",
    "\n",
    "valid_words['3'].value_counts().head()\n",
    "\n",
    "# The top five letters are all vowels."
   ]
  },
  {
   "cell_type": "code",
   "execution_count": 15,
   "id": "97ccf144",
   "metadata": {},
   "outputs": [
    {
     "data": {
      "text/plain": [
       "e    318\n",
       "n    182\n",
       "s    171\n",
       "a    163\n",
       "l    162\n",
       "Name: 4, dtype: int64"
      ]
     },
     "execution_count": 15,
     "metadata": {},
     "output_type": "execute_result"
    }
   ],
   "source": [
    "# These are the five most common letters in the fourth position of words that are potential solutions:\n",
    "\n",
    "valid_words['4'].value_counts().head()"
   ]
  },
  {
   "cell_type": "code",
   "execution_count": 16,
   "id": "2fa4a1c4",
   "metadata": {},
   "outputs": [
    {
     "data": {
      "text/plain": [
       "e    424\n",
       "y    364\n",
       "t    253\n",
       "r    212\n",
       "l    156\n",
       "Name: 5, dtype: int64"
      ]
     },
     "execution_count": 16,
     "metadata": {},
     "output_type": "execute_result"
    }
   ],
   "source": [
    "# These are the five most common letters in the fifth position of words that are potential solutions:\n",
    "\n",
    "valid_words['5'].value_counts().head()\n",
    "\n",
    "# There are many words that end in \"e\" and \"y.\"\n",
    "# Notably, there are no plural words in the solution set.\n",
    "# This is why the letter \"s\" is not a common fifth letter."
   ]
  },
  {
   "cell_type": "code",
   "execution_count": 17,
   "id": "7fe4d8c1",
   "metadata": {},
   "outputs": [
    {
     "data": {
      "text/plain": [
       "e    1233\n",
       "a     979\n",
       "r     899\n",
       "o     754\n",
       "t     729\n",
       "l     719\n",
       "i     671\n",
       "s     669\n",
       "n     575\n",
       "c     477\n",
       "dtype: int64"
      ]
     },
     "execution_count": 17,
     "metadata": {},
     "output_type": "execute_result"
    }
   ],
   "source": [
    "# Finally, here are the ten most common letters in any position of words that are potential solutions:\n",
    "\n",
    "valid_words[letters].sum().sort_values(ascending=False).head(10)\n",
    "\n",
    "# The letter \"e\" represents over 10% of all letters.\n",
    "# The letter \"u\" is the least common vowel in the solution set.\n",
    "# Guessing a \"u\" early in Wordle is actually a bad strategy!"
   ]
  },
  {
   "cell_type": "code",
   "execution_count": 18,
   "id": "e9ab9fdd",
   "metadata": {},
   "outputs": [
    {
     "data": {
      "text/html": [
       "<div>\n",
       "<style scoped>\n",
       "    .dataframe tbody tr th:only-of-type {\n",
       "        vertical-align: middle;\n",
       "    }\n",
       "\n",
       "    .dataframe tbody tr th {\n",
       "        vertical-align: top;\n",
       "    }\n",
       "\n",
       "    .dataframe thead th {\n",
       "        text-align: right;\n",
       "    }\n",
       "</style>\n",
       "<table border=\"1\" class=\"dataframe\">\n",
       "  <thead>\n",
       "    <tr style=\"text-align: right;\">\n",
       "      <th></th>\n",
       "      <th>is_valid</th>\n",
       "      <th>1</th>\n",
       "      <th>2</th>\n",
       "      <th>3</th>\n",
       "      <th>4</th>\n",
       "      <th>5</th>\n",
       "      <th>a</th>\n",
       "      <th>b</th>\n",
       "      <th>c</th>\n",
       "      <th>d</th>\n",
       "      <th>...</th>\n",
       "      <th>5q</th>\n",
       "      <th>5r</th>\n",
       "      <th>5s</th>\n",
       "      <th>5t</th>\n",
       "      <th>5u</th>\n",
       "      <th>5v</th>\n",
       "      <th>5w</th>\n",
       "      <th>5x</th>\n",
       "      <th>5y</th>\n",
       "      <th>5z</th>\n",
       "    </tr>\n",
       "  </thead>\n",
       "  <tbody>\n",
       "    <tr>\n",
       "      <th>oater</th>\n",
       "      <td>False</td>\n",
       "      <td>o</td>\n",
       "      <td>a</td>\n",
       "      <td>t</td>\n",
       "      <td>e</td>\n",
       "      <td>r</td>\n",
       "      <td>1</td>\n",
       "      <td>0</td>\n",
       "      <td>0</td>\n",
       "      <td>0</td>\n",
       "      <td>...</td>\n",
       "      <td>0</td>\n",
       "      <td>1</td>\n",
       "      <td>0</td>\n",
       "      <td>0</td>\n",
       "      <td>0</td>\n",
       "      <td>0</td>\n",
       "      <td>0</td>\n",
       "      <td>0</td>\n",
       "      <td>0</td>\n",
       "      <td>0</td>\n",
       "    </tr>\n",
       "    <tr>\n",
       "      <th>orate</th>\n",
       "      <td>False</td>\n",
       "      <td>o</td>\n",
       "      <td>r</td>\n",
       "      <td>a</td>\n",
       "      <td>t</td>\n",
       "      <td>e</td>\n",
       "      <td>1</td>\n",
       "      <td>0</td>\n",
       "      <td>0</td>\n",
       "      <td>0</td>\n",
       "      <td>...</td>\n",
       "      <td>0</td>\n",
       "      <td>0</td>\n",
       "      <td>0</td>\n",
       "      <td>0</td>\n",
       "      <td>0</td>\n",
       "      <td>0</td>\n",
       "      <td>0</td>\n",
       "      <td>0</td>\n",
       "      <td>0</td>\n",
       "      <td>0</td>\n",
       "    </tr>\n",
       "    <tr>\n",
       "      <th>roate</th>\n",
       "      <td>False</td>\n",
       "      <td>r</td>\n",
       "      <td>o</td>\n",
       "      <td>a</td>\n",
       "      <td>t</td>\n",
       "      <td>e</td>\n",
       "      <td>1</td>\n",
       "      <td>0</td>\n",
       "      <td>0</td>\n",
       "      <td>0</td>\n",
       "      <td>...</td>\n",
       "      <td>0</td>\n",
       "      <td>0</td>\n",
       "      <td>0</td>\n",
       "      <td>0</td>\n",
       "      <td>0</td>\n",
       "      <td>0</td>\n",
       "      <td>0</td>\n",
       "      <td>0</td>\n",
       "      <td>0</td>\n",
       "      <td>0</td>\n",
       "    </tr>\n",
       "  </tbody>\n",
       "</table>\n",
       "<p>3 rows × 162 columns</p>\n",
       "</div>"
      ],
      "text/plain": [
       "       is_valid  1  2  3  4  5  a  b  c  d  ...  5q  5r  5s  5t  5u  5v  5w  \\\n",
       "oater     False  o  a  t  e  r  1  0  0  0  ...   0   1   0   0   0   0   0   \n",
       "orate     False  o  r  a  t  e  1  0  0  0  ...   0   0   0   0   0   0   0   \n",
       "roate     False  r  o  a  t  e  1  0  0  0  ...   0   0   0   0   0   0   0   \n",
       "\n",
       "       5x  5y  5z  \n",
       "oater   0   0   0  \n",
       "orate   0   0   0  \n",
       "roate   0   0   0  \n",
       "\n",
       "[3 rows x 162 columns]"
      ]
     },
     "execution_count": 18,
     "metadata": {},
     "output_type": "execute_result"
    }
   ],
   "source": [
    "# Do any words contain all of the five most common letters?\n",
    "# There are three accepted words that fulfill this condition.\n",
    "\n",
    "words[words[['e', 'a', 'r', 'o', 't']].all(axis=1)]"
   ]
  },
  {
   "cell_type": "code",
   "execution_count": 19,
   "id": "0bb73e88",
   "metadata": {},
   "outputs": [
    {
     "name": "stdout",
     "output_type": "stream",
     "text": [
      "CPU times: user 714 µs, sys: 260 µs, total: 974 µs\n",
      "Wall time: 596 µs\n"
     ]
    }
   ],
   "source": [
    "%%time\n",
    "\n",
    "# I now calculate the position scores for the metric.\n",
    "# The calculation is simple. I take the sum of each position column, and divide by the number of valid words:\n",
    "\n",
    "position_scores = np.sum(valid_positions, axis=0) / total_valid_words * 100"
   ]
  },
  {
   "cell_type": "code",
   "execution_count": 20,
   "id": "2b04f472",
   "metadata": {},
   "outputs": [
    {
     "name": "stdout",
     "output_type": "stream",
     "text": [
      "CPU times: user 45 µs, sys: 1e+03 ns, total: 46 µs\n",
      "Wall time: 50.1 µs\n"
     ]
    }
   ],
   "source": [
    "%%time\n",
    "\n",
    "# The letter scores can be calculated similarly, but it's not necessary.\n",
    "# Using the position scores, I group the scores by letter and sum the groups.\n",
    "# For example, the letter score for \"a\" is the sum of (\"1a\", \"2a\", \"3a\", \"4a\", \"5a\").\n",
    "# This process is much faster for large word banks with a time complexity of O(1) as opposed to O(num_words).\n",
    "\n",
    "letter_scores = position_scores.reshape((-1, 5)).sum(axis=1)"
   ]
  },
  {
   "cell_type": "code",
   "execution_count": 21,
   "id": "6563ee87",
   "metadata": {},
   "outputs": [],
   "source": [
    "# I now calculate each word's position and letter score:\n",
    "\n",
    "word_letters = words[letters].astype(bool).values\n",
    "word_positions = words[positions].values\n",
    "\n",
    "# I convert the letter columns' type to boolean.\n",
    "# This is to avoid double counting letters, like the letter \"m\" in the word \"mummy.\""
   ]
  },
  {
   "cell_type": "code",
   "execution_count": 22,
   "id": "a44b13e8",
   "metadata": {
    "scrolled": true
   },
   "outputs": [
    {
     "name": "stdout",
     "output_type": "stream",
     "text": [
      "CPU times: user 2.88 ms, sys: 1.93 ms, total: 4.8 ms\n",
      "Wall time: 2.8 ms\n"
     ]
    }
   ],
   "source": [
    "%%time\n",
    "\n",
    "# The \"letter score\" of a word is the sum of its letters' scores:\n",
    "\n",
    "words['letter_score'] = np.sum(letter_scores * word_letters, axis=1)"
   ]
  },
  {
   "cell_type": "code",
   "execution_count": 23,
   "id": "8537cbe6",
   "metadata": {
    "scrolled": true
   },
   "outputs": [
    {
     "name": "stdout",
     "output_type": "stream",
     "text": [
      "CPU times: user 6.4 ms, sys: 5.73 ms, total: 12.1 ms\n",
      "Wall time: 10.4 ms\n"
     ]
    }
   ],
   "source": [
    "%%time\n",
    "\n",
    "# The \"position score\" of a word is the sum of its positions' scores:\n",
    "\n",
    "words['position_score'] = np.sum(position_scores * word_positions, axis=1)"
   ]
  },
  {
   "cell_type": "code",
   "execution_count": 24,
   "id": "0ac4d51e",
   "metadata": {},
   "outputs": [],
   "source": [
    "# The final score of a word is the sum of its \"letter score\" and \"position score\":\n",
    "\n",
    "words['score'] = words['letter_score'] + words['position_score']"
   ]
  },
  {
   "cell_type": "code",
   "execution_count": 25,
   "id": "2d2c848b",
   "metadata": {},
   "outputs": [
    {
     "data": {
      "text/plain": [
       "roate    198.444924\n",
       "oater    198.444924\n",
       "orate    198.444924\n",
       "realo    198.012959\n",
       "artel    196.933045\n",
       "Name: letter_score, dtype: float64"
      ]
     },
     "execution_count": 25,
     "metadata": {},
     "output_type": "execute_result"
    }
   ],
   "source": [
    "# Here are the five best words according to the \"letter score\":\n",
    "\n",
    "words['letter_score'].sort_values(ascending=False).head()\n",
    "\n",
    "# The three words containing all of the five most common letters have the highest score."
   ]
  },
  {
   "cell_type": "code",
   "execution_count": 26,
   "id": "27981db3",
   "metadata": {
    "scrolled": true
   },
   "outputs": [
    {
     "data": {
      "text/plain": [
       "saree    68.034557\n",
       "sooey    67.861771\n",
       "soree    66.954644\n",
       "saine    66.609071\n",
       "soare    66.004320\n",
       "Name: position_score, dtype: float64"
      ]
     },
     "execution_count": 26,
     "metadata": {},
     "output_type": "execute_result"
    }
   ],
   "source": [
    "# Here are the five best words according to the \"position score\":\n",
    "\n",
    "words['position_score'].sort_values(ascending=False).head()\n",
    "\n",
    "# Since each position is considered individually, words with repeating letters are not penalized.\n",
    "# For example, the word \"saree\" uses the score for \"e\" in both the fourth position and the fifth position."
   ]
  },
  {
   "cell_type": "code",
   "execution_count": 27,
   "id": "3cd38f3a",
   "metadata": {
    "scrolled": true
   },
   "outputs": [
    {
     "data": {
      "text/html": [
       "<div>\n",
       "<style scoped>\n",
       "    .dataframe tbody tr th:only-of-type {\n",
       "        vertical-align: middle;\n",
       "    }\n",
       "\n",
       "    .dataframe tbody tr th {\n",
       "        vertical-align: top;\n",
       "    }\n",
       "\n",
       "    .dataframe thead th {\n",
       "        text-align: right;\n",
       "    }\n",
       "</style>\n",
       "<table border=\"1\" class=\"dataframe\">\n",
       "  <thead>\n",
       "    <tr style=\"text-align: right;\">\n",
       "      <th></th>\n",
       "      <th>score</th>\n",
       "      <th>letter_score</th>\n",
       "      <th>position_score</th>\n",
       "    </tr>\n",
       "  </thead>\n",
       "  <tbody>\n",
       "    <tr>\n",
       "      <th>soare</th>\n",
       "      <td>261.857451</td>\n",
       "      <td>195.853132</td>\n",
       "      <td>66.004320</td>\n",
       "    </tr>\n",
       "    <tr>\n",
       "      <th>roate</th>\n",
       "      <td>252.613391</td>\n",
       "      <td>198.444924</td>\n",
       "      <td>54.168467</td>\n",
       "    </tr>\n",
       "    <tr>\n",
       "      <th>stare</th>\n",
       "      <td>252.051836</td>\n",
       "      <td>194.773218</td>\n",
       "      <td>57.278618</td>\n",
       "    </tr>\n",
       "    <tr>\n",
       "      <th>arose</th>\n",
       "      <td>249.719222</td>\n",
       "      <td>195.853132</td>\n",
       "      <td>53.866091</td>\n",
       "    </tr>\n",
       "    <tr>\n",
       "      <th>orate</th>\n",
       "      <td>249.330454</td>\n",
       "      <td>198.444924</td>\n",
       "      <td>50.885529</td>\n",
       "    </tr>\n",
       "  </tbody>\n",
       "</table>\n",
       "</div>"
      ],
      "text/plain": [
       "            score  letter_score  position_score\n",
       "soare  261.857451    195.853132       66.004320\n",
       "roate  252.613391    198.444924       54.168467\n",
       "stare  252.051836    194.773218       57.278618\n",
       "arose  249.719222    195.853132       53.866091\n",
       "orate  249.330454    198.444924       50.885529"
      ]
     },
     "execution_count": 27,
     "metadata": {},
     "output_type": "execute_result"
    }
   ],
   "source": [
    "# Here are the five best words according to the combined score:\n",
    "\n",
    "words[['score', 'letter_score', 'position_score']].sort_values('score', ascending=False).head()\n",
    "\n",
    "# The word \"soare\" does well in both categories.\n",
    "# According to this simple metric, \"soare\" is the best first guess in Wordle.\n",
    "\n",
    "# I don't believe that \"soare\" is necessarily the best possible first guess.\n",
    "# To be certain of that, you would need to complete an exhaustive tree search for every word.\n",
    "# I may explore that approach later on."
   ]
  },
  {
   "cell_type": "code",
   "execution_count": 28,
   "id": "98604af8",
   "metadata": {},
   "outputs": [
    {
     "data": {
      "image/png": "[encoded data removed]",
      "text/plain": [
       "<Figure size 432x288 with 1 Axes>"
      ]
     },
     "metadata": {
      "needs_background": "light"
     },
     "output_type": "display_data"
    }
   ],
   "source": [
    "plt.title('Frequency of Letter Scores')\n",
    "plt.xlabel('Score')\n",
    "plt.ylabel('Count')\n",
    "\n",
    "_ = sns.histplot(words.letter_score, bins=10, kde=True)"
   ]
  },
  {
   "cell_type": "code",
   "execution_count": 29,
   "id": "9dd81726",
   "metadata": {
    "scrolled": false
   },
   "outputs": [
    {
     "data": {
      "image/png": "[encoded data removed]",
      "text/plain": [
       "<Figure size 432x288 with 1 Axes>"
      ]
     },
     "metadata": {
      "needs_background": "light"
     },
     "output_type": "display_data"
    }
   ],
   "source": [
    "plt.title('Frequency of Position Scores')\n",
    "plt.xlabel('Score')\n",
    "plt.ylabel('Count')\n",
    "\n",
    "_ = sns.histplot(words.position_score, bins=10, kde=True)"
   ]
  },
  {
   "cell_type": "code",
   "execution_count": 30,
   "id": "465dafda",
   "metadata": {},
   "outputs": [],
   "source": [
    "# Now we're ready to solve some puzzles!\n",
    "\n",
    "words.sort_values('score', ascending=False).to_pickle('../data/words.pkl')"
   ]
  },
  {
   "cell_type": "code",
   "execution_count": 31,
   "id": "25e73be3",
   "metadata": {},
   "outputs": [],
   "source": [
    "#### This is a draft of a second metric, which avoids double counting letters.\n",
    "#### For example, the letter score for \"a\" is the count of all words containing \"a.\"\n",
    "#### The letter score for \"e\" is the count of all words containing \"e.\"\n",
    "#### However, all words with both an \"a\" and an \"e\" are counted twice.\n",
    "#### The new metric accounts for this.\n",
    "#### However, this comes at a large time complexity penalty; O(n^2) as opposed to O(n).\n",
    "#### Since the word bank is small, it will still complete in a reasonable amount of time.\n",
    "#### I can reduce the time further by pruning words with a score of 0.\n",
    "\n",
    "# values = (words[['is_valid'] + [letter for letter in letters] + [position for position in positions]]\n",
    "#                     .astype(bool).values)\n",
    "\n",
    "# valid_values = values[values[:, 0]]\n",
    "\n",
    "# letter_indices = words.apply(lambda row: [ord(row[n]) - ord('a') + 1 for n in range(1, 6)], axis=1)\n",
    "# words['letter_indices'] = letter_indices\n",
    "\n",
    "# words['letter_info'] = [np.sum(np.any(valid_values[:, letter_indices[i]], axis=1))\n",
    "#                             for i in range(len(letter_indices))]\n",
    "\n",
    "# position_indices = words.apply(lambda row: [ord(row[n]) - ord('a') + (26 * n) + 1 for n in range(1, 6)], axis=1)\n",
    "# words['position_indices'] = position_indices\n",
    "\n",
    "# words['position_info'] = [np.sum(np.any(valid_values[:, position_indices[i]], axis=1))\n",
    "#                               for i in range(len(position_indices))]"
   ]
  }
 ],
 "metadata": {
  "kernelspec": {
   "display_name": "Python 3 (ipykernel)",
   "language": "python",
   "name": "python3"
  },
  "language_info": {
   "codemirror_mode": {
    "name": "ipython",
    "version": 3
   },
   "file_extension": ".py",
   "mimetype": "text/x-python",
   "name": "python",
   "nbconvert_exporter": "python",
   "pygments_lexer": "ipython3",
   "version": "3.10.0"
  }
 },
 "nbformat": 4,
 "nbformat_minor": 5
}
