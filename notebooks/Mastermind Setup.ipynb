{
 "cells": [
  {
   "cell_type": "code",
   "execution_count": 146,
   "id": "18df8dff",
   "metadata": {},
   "outputs": [],
   "source": [
    "import pandas as pd\n",
    "import numpy as np\n",
    "import matplotlib.pyplot as plt\n",
    "import seaborn as sns\n",
    "\n",
    "import pickle\n",
    "\n",
    "from itertools import combinations"
   ]
  },
  {
   "cell_type": "code",
   "execution_count": 200,
   "id": "bc92774f",
   "metadata": {},
   "outputs": [],
   "source": [
    "# Red Blue Green Yellow Pink White\n",
    "\n",
    "colors = 'rgbypw'\n",
    "\n",
    "patterns = pd.DataFrame(combinations(colors * 4, r=4), columns=['1', '2', '3', '4'])\n",
    "patterns['pattern'] = patterns.sum(axis=1)\n",
    "patterns.set_index('pattern', inplace=True)\n",
    "patterns.drop_duplicates(inplace=True)\n",
    "patterns['is_valid'] = True"
   ]
  },
  {
   "cell_type": "code",
   "execution_count": 201,
   "id": "13af2f4f",
   "metadata": {},
   "outputs": [
    {
     "data": {
      "text/html": [
       "<div>\n",
       "<style scoped>\n",
       "    .dataframe tbody tr th:only-of-type {\n",
       "        vertical-align: middle;\n",
       "    }\n",
       "\n",
       "    .dataframe tbody tr th {\n",
       "        vertical-align: top;\n",
       "    }\n",
       "\n",
       "    .dataframe thead th {\n",
       "        text-align: right;\n",
       "    }\n",
       "</style>\n",
       "<table border=\"1\" class=\"dataframe\">\n",
       "  <thead>\n",
       "    <tr style=\"text-align: right;\">\n",
       "      <th></th>\n",
       "      <th>1</th>\n",
       "      <th>2</th>\n",
       "      <th>3</th>\n",
       "      <th>4</th>\n",
       "      <th>is_valid</th>\n",
       "    </tr>\n",
       "    <tr>\n",
       "      <th>pattern</th>\n",
       "      <th></th>\n",
       "      <th></th>\n",
       "      <th></th>\n",
       "      <th></th>\n",
       "      <th></th>\n",
       "    </tr>\n",
       "  </thead>\n",
       "  <tbody>\n",
       "    <tr>\n",
       "      <th>rgby</th>\n",
       "      <td>r</td>\n",
       "      <td>g</td>\n",
       "      <td>b</td>\n",
       "      <td>y</td>\n",
       "      <td>True</td>\n",
       "    </tr>\n",
       "    <tr>\n",
       "      <th>rgbp</th>\n",
       "      <td>r</td>\n",
       "      <td>g</td>\n",
       "      <td>b</td>\n",
       "      <td>p</td>\n",
       "      <td>True</td>\n",
       "    </tr>\n",
       "    <tr>\n",
       "      <th>rgbw</th>\n",
       "      <td>r</td>\n",
       "      <td>g</td>\n",
       "      <td>b</td>\n",
       "      <td>w</td>\n",
       "      <td>True</td>\n",
       "    </tr>\n",
       "    <tr>\n",
       "      <th>rgbr</th>\n",
       "      <td>r</td>\n",
       "      <td>g</td>\n",
       "      <td>b</td>\n",
       "      <td>r</td>\n",
       "      <td>True</td>\n",
       "    </tr>\n",
       "    <tr>\n",
       "      <th>rgbg</th>\n",
       "      <td>r</td>\n",
       "      <td>g</td>\n",
       "      <td>b</td>\n",
       "      <td>g</td>\n",
       "      <td>True</td>\n",
       "    </tr>\n",
       "  </tbody>\n",
       "</table>\n",
       "</div>"
      ],
      "text/plain": [
       "         1  2  3  4  is_valid\n",
       "pattern                      \n",
       "rgby     r  g  b  y      True\n",
       "rgbp     r  g  b  p      True\n",
       "rgbw     r  g  b  w      True\n",
       "rgbr     r  g  b  r      True\n",
       "rgbg     r  g  b  g      True"
      ]
     },
     "execution_count": 201,
     "metadata": {},
     "output_type": "execute_result"
    }
   ],
   "source": [
    "patterns.head()"
   ]
  },
  {
   "cell_type": "code",
   "execution_count": 202,
   "id": "a7b7b605",
   "metadata": {},
   "outputs": [
    {
     "data": {
      "text/plain": [
       "1296"
      ]
     },
     "execution_count": 202,
     "metadata": {},
     "output_type": "execute_result"
    }
   ],
   "source": [
    "# In total, there are ~1,300 unique patterns.\n",
    "\n",
    "len(patterns)"
   ]
  },
  {
   "cell_type": "code",
   "execution_count": 203,
   "id": "e944321d",
   "metadata": {},
   "outputs": [],
   "source": [
    "# There are two main features I use for each pattern:\n",
    "# The first is the count of each color within the pattern.\n",
    "# The second is the count of each color at a specific position (1, 2, 3, 4) within the pattern.\n",
    "\n",
    "colors = list(colors)\n",
    "positions = [f'{position}{color}' for color in colors for position in range(1, 5)]"
   ]
  },
  {
   "cell_type": "code",
   "execution_count": 204,
   "id": "57333b62",
   "metadata": {
    "scrolled": true
   },
   "outputs": [
    {
     "data": {
      "text/html": [
       "<div>\n",
       "<style scoped>\n",
       "    .dataframe tbody tr th:only-of-type {\n",
       "        vertical-align: middle;\n",
       "    }\n",
       "\n",
       "    .dataframe tbody tr th {\n",
       "        vertical-align: top;\n",
       "    }\n",
       "\n",
       "    .dataframe thead th {\n",
       "        text-align: right;\n",
       "    }\n",
       "</style>\n",
       "<table border=\"1\" class=\"dataframe\">\n",
       "  <thead>\n",
       "    <tr style=\"text-align: right;\">\n",
       "      <th></th>\n",
       "      <th>1</th>\n",
       "      <th>2</th>\n",
       "      <th>3</th>\n",
       "      <th>4</th>\n",
       "      <th>is_valid</th>\n",
       "      <th>r</th>\n",
       "      <th>g</th>\n",
       "      <th>b</th>\n",
       "      <th>y</th>\n",
       "      <th>p</th>\n",
       "      <th>w</th>\n",
       "    </tr>\n",
       "    <tr>\n",
       "      <th>pattern</th>\n",
       "      <th></th>\n",
       "      <th></th>\n",
       "      <th></th>\n",
       "      <th></th>\n",
       "      <th></th>\n",
       "      <th></th>\n",
       "      <th></th>\n",
       "      <th></th>\n",
       "      <th></th>\n",
       "      <th></th>\n",
       "      <th></th>\n",
       "    </tr>\n",
       "  </thead>\n",
       "  <tbody>\n",
       "    <tr>\n",
       "      <th>rgby</th>\n",
       "      <td>r</td>\n",
       "      <td>g</td>\n",
       "      <td>b</td>\n",
       "      <td>y</td>\n",
       "      <td>True</td>\n",
       "      <td>1</td>\n",
       "      <td>1</td>\n",
       "      <td>1</td>\n",
       "      <td>1</td>\n",
       "      <td>0</td>\n",
       "      <td>0</td>\n",
       "    </tr>\n",
       "    <tr>\n",
       "      <th>rgbp</th>\n",
       "      <td>r</td>\n",
       "      <td>g</td>\n",
       "      <td>b</td>\n",
       "      <td>p</td>\n",
       "      <td>True</td>\n",
       "      <td>1</td>\n",
       "      <td>1</td>\n",
       "      <td>1</td>\n",
       "      <td>0</td>\n",
       "      <td>1</td>\n",
       "      <td>0</td>\n",
       "    </tr>\n",
       "    <tr>\n",
       "      <th>rgbw</th>\n",
       "      <td>r</td>\n",
       "      <td>g</td>\n",
       "      <td>b</td>\n",
       "      <td>w</td>\n",
       "      <td>True</td>\n",
       "      <td>1</td>\n",
       "      <td>1</td>\n",
       "      <td>1</td>\n",
       "      <td>0</td>\n",
       "      <td>0</td>\n",
       "      <td>1</td>\n",
       "    </tr>\n",
       "    <tr>\n",
       "      <th>rgbr</th>\n",
       "      <td>r</td>\n",
       "      <td>g</td>\n",
       "      <td>b</td>\n",
       "      <td>r</td>\n",
       "      <td>True</td>\n",
       "      <td>2</td>\n",
       "      <td>1</td>\n",
       "      <td>1</td>\n",
       "      <td>0</td>\n",
       "      <td>0</td>\n",
       "      <td>0</td>\n",
       "    </tr>\n",
       "    <tr>\n",
       "      <th>rgbg</th>\n",
       "      <td>r</td>\n",
       "      <td>g</td>\n",
       "      <td>b</td>\n",
       "      <td>g</td>\n",
       "      <td>True</td>\n",
       "      <td>1</td>\n",
       "      <td>2</td>\n",
       "      <td>1</td>\n",
       "      <td>0</td>\n",
       "      <td>0</td>\n",
       "      <td>0</td>\n",
       "    </tr>\n",
       "  </tbody>\n",
       "</table>\n",
       "</div>"
      ],
      "text/plain": [
       "         1  2  3  4  is_valid  r  g  b  y  p  w\n",
       "pattern                                        \n",
       "rgby     r  g  b  y      True  1  1  1  1  0  0\n",
       "rgbp     r  g  b  p      True  1  1  1  0  1  0\n",
       "rgbw     r  g  b  w      True  1  1  1  0  0  1\n",
       "rgbr     r  g  b  r      True  2  1  1  0  0  0\n",
       "rgbg     r  g  b  g      True  1  2  1  0  0  0"
      ]
     },
     "execution_count": 204,
     "metadata": {},
     "output_type": "execute_result"
    }
   ],
   "source": [
    "# For each color, I count the occurrences of that color within each pattern:\n",
    "\n",
    "for color in colors:  \n",
    "    patterns[color] = 0\n",
    "    for position in range(1, 5):\n",
    "        patterns[color] += patterns[f'{position}'] == color\n",
    "        \n",
    "patterns.head()"
   ]
  },
  {
   "cell_type": "code",
   "execution_count": 205,
   "id": "bb47992f",
   "metadata": {},
   "outputs": [],
   "source": [
    "# A pattern is considered valid if it contains no more than two of any color.\n",
    "for color in colors:\n",
    "    patterns['is_valid'] = patterns['is_valid'].mask(patterns[color] > 2, False)"
   ]
  },
  {
   "cell_type": "code",
   "execution_count": 206,
   "id": "e95ca06f",
   "metadata": {
    "scrolled": false
   },
   "outputs": [
    {
     "data": {
      "text/plain": [
       "True     1170\n",
       "False     126\n",
       "Name: is_valid, dtype: int64"
      ]
     },
     "execution_count": 206,
     "metadata": {},
     "output_type": "execute_result"
    }
   ],
   "source": [
    "# I double-check the counts for valid and invalid patterns to make sure that they match the original lists:\n",
    "\n",
    "patterns['is_valid'].value_counts()"
   ]
  },
  {
   "cell_type": "code",
   "execution_count": 208,
   "id": "07cc5693",
   "metadata": {
    "scrolled": true
   },
   "outputs": [
    {
     "data": {
      "text/html": [
       "<div>\n",
       "<style scoped>\n",
       "    .dataframe tbody tr th:only-of-type {\n",
       "        vertical-align: middle;\n",
       "    }\n",
       "\n",
       "    .dataframe tbody tr th {\n",
       "        vertical-align: top;\n",
       "    }\n",
       "\n",
       "    .dataframe thead th {\n",
       "        text-align: right;\n",
       "    }\n",
       "</style>\n",
       "<table border=\"1\" class=\"dataframe\">\n",
       "  <thead>\n",
       "    <tr style=\"text-align: right;\">\n",
       "      <th></th>\n",
       "      <th>1</th>\n",
       "      <th>2</th>\n",
       "      <th>3</th>\n",
       "      <th>4</th>\n",
       "      <th>is_valid</th>\n",
       "      <th>r</th>\n",
       "      <th>g</th>\n",
       "      <th>b</th>\n",
       "      <th>y</th>\n",
       "      <th>p</th>\n",
       "      <th>...</th>\n",
       "      <th>3p</th>\n",
       "      <th>3r</th>\n",
       "      <th>3w</th>\n",
       "      <th>3y</th>\n",
       "      <th>4b</th>\n",
       "      <th>4g</th>\n",
       "      <th>4p</th>\n",
       "      <th>4r</th>\n",
       "      <th>4w</th>\n",
       "      <th>4y</th>\n",
       "    </tr>\n",
       "    <tr>\n",
       "      <th>pattern</th>\n",
       "      <th></th>\n",
       "      <th></th>\n",
       "      <th></th>\n",
       "      <th></th>\n",
       "      <th></th>\n",
       "      <th></th>\n",
       "      <th></th>\n",
       "      <th></th>\n",
       "      <th></th>\n",
       "      <th></th>\n",
       "      <th></th>\n",
       "      <th></th>\n",
       "      <th></th>\n",
       "      <th></th>\n",
       "      <th></th>\n",
       "      <th></th>\n",
       "      <th></th>\n",
       "      <th></th>\n",
       "      <th></th>\n",
       "      <th></th>\n",
       "      <th></th>\n",
       "    </tr>\n",
       "  </thead>\n",
       "  <tbody>\n",
       "    <tr>\n",
       "      <th>rgby</th>\n",
       "      <td>r</td>\n",
       "      <td>g</td>\n",
       "      <td>b</td>\n",
       "      <td>y</td>\n",
       "      <td>True</td>\n",
       "      <td>1</td>\n",
       "      <td>1</td>\n",
       "      <td>1</td>\n",
       "      <td>1</td>\n",
       "      <td>0</td>\n",
       "      <td>...</td>\n",
       "      <td>0</td>\n",
       "      <td>0</td>\n",
       "      <td>0</td>\n",
       "      <td>0</td>\n",
       "      <td>0</td>\n",
       "      <td>0</td>\n",
       "      <td>0</td>\n",
       "      <td>0</td>\n",
       "      <td>0</td>\n",
       "      <td>1</td>\n",
       "    </tr>\n",
       "    <tr>\n",
       "      <th>rgbp</th>\n",
       "      <td>r</td>\n",
       "      <td>g</td>\n",
       "      <td>b</td>\n",
       "      <td>p</td>\n",
       "      <td>True</td>\n",
       "      <td>1</td>\n",
       "      <td>1</td>\n",
       "      <td>1</td>\n",
       "      <td>0</td>\n",
       "      <td>1</td>\n",
       "      <td>...</td>\n",
       "      <td>0</td>\n",
       "      <td>0</td>\n",
       "      <td>0</td>\n",
       "      <td>0</td>\n",
       "      <td>0</td>\n",
       "      <td>0</td>\n",
       "      <td>1</td>\n",
       "      <td>0</td>\n",
       "      <td>0</td>\n",
       "      <td>0</td>\n",
       "    </tr>\n",
       "    <tr>\n",
       "      <th>rgbw</th>\n",
       "      <td>r</td>\n",
       "      <td>g</td>\n",
       "      <td>b</td>\n",
       "      <td>w</td>\n",
       "      <td>True</td>\n",
       "      <td>1</td>\n",
       "      <td>1</td>\n",
       "      <td>1</td>\n",
       "      <td>0</td>\n",
       "      <td>0</td>\n",
       "      <td>...</td>\n",
       "      <td>0</td>\n",
       "      <td>0</td>\n",
       "      <td>0</td>\n",
       "      <td>0</td>\n",
       "      <td>0</td>\n",
       "      <td>0</td>\n",
       "      <td>0</td>\n",
       "      <td>0</td>\n",
       "      <td>1</td>\n",
       "      <td>0</td>\n",
       "    </tr>\n",
       "    <tr>\n",
       "      <th>rgbr</th>\n",
       "      <td>r</td>\n",
       "      <td>g</td>\n",
       "      <td>b</td>\n",
       "      <td>r</td>\n",
       "      <td>True</td>\n",
       "      <td>2</td>\n",
       "      <td>1</td>\n",
       "      <td>1</td>\n",
       "      <td>0</td>\n",
       "      <td>0</td>\n",
       "      <td>...</td>\n",
       "      <td>0</td>\n",
       "      <td>0</td>\n",
       "      <td>0</td>\n",
       "      <td>0</td>\n",
       "      <td>0</td>\n",
       "      <td>0</td>\n",
       "      <td>0</td>\n",
       "      <td>1</td>\n",
       "      <td>0</td>\n",
       "      <td>0</td>\n",
       "    </tr>\n",
       "    <tr>\n",
       "      <th>rgbg</th>\n",
       "      <td>r</td>\n",
       "      <td>g</td>\n",
       "      <td>b</td>\n",
       "      <td>g</td>\n",
       "      <td>True</td>\n",
       "      <td>1</td>\n",
       "      <td>2</td>\n",
       "      <td>1</td>\n",
       "      <td>0</td>\n",
       "      <td>0</td>\n",
       "      <td>...</td>\n",
       "      <td>0</td>\n",
       "      <td>0</td>\n",
       "      <td>0</td>\n",
       "      <td>0</td>\n",
       "      <td>0</td>\n",
       "      <td>1</td>\n",
       "      <td>0</td>\n",
       "      <td>0</td>\n",
       "      <td>0</td>\n",
       "      <td>0</td>\n",
       "    </tr>\n",
       "  </tbody>\n",
       "</table>\n",
       "<p>5 rows × 35 columns</p>\n",
       "</div>"
      ],
      "text/plain": [
       "         1  2  3  4  is_valid  r  g  b  y  p  ...  3p  3r  3w  3y  4b  4g  4p  \\\n",
       "pattern                                       ...                               \n",
       "rgby     r  g  b  y      True  1  1  1  1  0  ...   0   0   0   0   0   0   0   \n",
       "rgbp     r  g  b  p      True  1  1  1  0  1  ...   0   0   0   0   0   0   1   \n",
       "rgbw     r  g  b  w      True  1  1  1  0  0  ...   0   0   0   0   0   0   0   \n",
       "rgbr     r  g  b  r      True  2  1  1  0  0  ...   0   0   0   0   0   0   0   \n",
       "rgbg     r  g  b  g      True  1  2  1  0  0  ...   0   0   0   0   0   1   0   \n",
       "\n",
       "         4r  4w  4y  \n",
       "pattern              \n",
       "rgby      0   0   1  \n",
       "rgbp      0   0   0  \n",
       "rgbw      0   1   0  \n",
       "rgbr      1   0   0  \n",
       "rgbg      0   0   0  \n",
       "\n",
       "[5 rows x 35 columns]"
      ]
     },
     "execution_count": 208,
     "metadata": {},
     "output_type": "execute_result"
    }
   ],
   "source": [
    "# To count the occurrences at each position, I use pandas' get_dummies function.\n",
    "# This creates a column for every combination of (position, color). \n",
    "# The value for each column is 1 if the color is present in that position, and 0 if it is not present.\n",
    "\n",
    "patterns = pd.concat([patterns, pd.get_dummies(patterns[['1', '2', '3', '4']], prefix_sep='')], axis=1)\n",
    "patterns.head()"
   ]
  },
  {
   "cell_type": "code",
   "execution_count": 209,
   "id": "33108fa3",
   "metadata": {},
   "outputs": [],
   "source": [
    "# To make the first guess, I need to find the best pattern based on a metric.\n",
    "# My metric is the sum of two scores:\n",
    "# 1. Position score: how many valid patterns contain this color in this specific position?\n",
    "# 2. Color score: how many valid patterns contain this color in any position?\n",
    "\n",
    "# To calculate these scores, I first need a list of each valid pattern:\n",
    "\n",
    "valid_patterns = patterns[patterns['is_valid']]\n",
    "\n",
    "valid_positions = valid_patterns[positions].values\n",
    "\n",
    "total_valid_patterns = valid_patterns.shape[0]"
   ]
  },
  {
   "cell_type": "code",
   "execution_count": 210,
   "id": "0bb73e88",
   "metadata": {},
   "outputs": [
    {
     "name": "stdout",
     "output_type": "stream",
     "text": [
      "CPU times: user 156 µs, sys: 36 µs, total: 192 µs\n",
      "Wall time: 170 µs\n"
     ]
    }
   ],
   "source": [
    "%%time\n",
    "\n",
    "# I now calculate the position scores for the metric.\n",
    "# The calculation is simple. I take the sum of each position column, and divide by the number of valid patterns:\n",
    "\n",
    "position_scores = np.sum(valid_positions, axis=0) / total_valid_patterns * 100"
   ]
  },
  {
   "cell_type": "code",
   "execution_count": 211,
   "id": "2b04f472",
   "metadata": {},
   "outputs": [
    {
     "name": "stdout",
     "output_type": "stream",
     "text": [
      "CPU times: user 52 µs, sys: 1e+03 ns, total: 53 µs\n",
      "Wall time: 57.9 µs\n"
     ]
    }
   ],
   "source": [
    "%%time\n",
    "\n",
    "# The color scores can be calculated similarly, but it's not necessary.\n",
    "# Using the position scores, I group the scores by color and sum the groups.\n",
    "# For example, the color score for \"r\" is the sum of (\"1r\", \"2r\", \"3r\", \"4r\").\n",
    "# This process is much faster for large pattern banks with a time complexity of O(1) as opposed to O(num_patterns).\n",
    "\n",
    "color_scores = position_scores.reshape((-1, 4)).sum(axis=1)"
   ]
  },
  {
   "cell_type": "code",
   "execution_count": 212,
   "id": "6563ee87",
   "metadata": {},
   "outputs": [],
   "source": [
    "# I now calculate each pattern's position and color score:\n",
    "\n",
    "pattern_colors = patterns[colors].astype(bool).values\n",
    "pattern_positions = patterns[positions].values\n",
    "\n",
    "# I convert the color columns' type to boolean.\n",
    "# This is to avoid double counting colors, like the color \"m\" in the pattern \"mummy.\""
   ]
  },
  {
   "cell_type": "code",
   "execution_count": 213,
   "id": "d943b41d",
   "metadata": {},
   "outputs": [
    {
     "data": {
      "text/plain": [
       "array([66.66666667, 66.66666667, 66.66666667, 66.66666667, 66.66666667,\n",
       "       66.66666667])"
      ]
     },
     "execution_count": 213,
     "metadata": {},
     "output_type": "execute_result"
    }
   ],
   "source": [
    "color_scores"
   ]
  },
  {
   "cell_type": "code",
   "execution_count": 214,
   "id": "a44b13e8",
   "metadata": {
    "scrolled": true
   },
   "outputs": [
    {
     "name": "stdout",
     "output_type": "stream",
     "text": [
      "CPU times: user 848 µs, sys: 222 µs, total: 1.07 ms\n",
      "Wall time: 907 µs\n"
     ]
    }
   ],
   "source": [
    "%%time\n",
    "\n",
    "# The \"color score\" of a pattern is the sum of its colors' scores:\n",
    "\n",
    "patterns['color_score'] = np.sum(color_scores * pattern_colors, axis=1)"
   ]
  },
  {
   "cell_type": "code",
   "execution_count": 215,
   "id": "8537cbe6",
   "metadata": {
    "scrolled": true
   },
   "outputs": [
    {
     "name": "stdout",
     "output_type": "stream",
     "text": [
      "CPU times: user 1.67 ms, sys: 979 µs, total: 2.65 ms\n",
      "Wall time: 1.75 ms\n"
     ]
    }
   ],
   "source": [
    "%%time\n",
    "\n",
    "# The \"position score\" of a pattern is the sum of its positions' scores:\n",
    "\n",
    "patterns['position_score'] = np.sum(position_scores * pattern_positions, axis=1)"
   ]
  },
  {
   "cell_type": "code",
   "execution_count": 216,
   "id": "0ac4d51e",
   "metadata": {},
   "outputs": [],
   "source": [
    "# The final score of a pattern is the sum of its \"color score\" and \"position score\":\n",
    "\n",
    "patterns['score'] = patterns['color_score'] + patterns['position_score']"
   ]
  },
  {
   "cell_type": "code",
   "execution_count": 218,
   "id": "2d2c848b",
   "metadata": {},
   "outputs": [
    {
     "data": {
      "text/plain": [
       "pattern\n",
       "bbbb    66.666667\n",
       "pppp    66.666667\n",
       "yyyy    66.666667\n",
       "gggg    66.666667\n",
       "rrrr    66.666667\n",
       "Name: color_score, dtype: float64"
      ]
     },
     "execution_count": 218,
     "metadata": {},
     "output_type": "execute_result"
    }
   ],
   "source": [
    "# Here are the five best patterns according to the \"color score\":\n",
    "\n",
    "patterns['color_score'].sort_values(ascending=True).head()\n",
    "\n",
    "# The three patterns containing all of the five most common colors have the highest score."
   ]
  },
  {
   "cell_type": "code",
   "execution_count": 222,
   "id": "98604af8",
   "metadata": {},
   "outputs": [
    {
     "data": {
      "image/png": "[encoded data removed]",
      "text/plain": [
       "<Figure size 432x288 with 1 Axes>"
      ]
     },
     "metadata": {
      "needs_background": "light"
     },
     "output_type": "display_data"
    }
   ],
   "source": [
    "plt.title('Frequency of color Scores')\n",
    "plt.xlabel('Score')\n",
    "plt.ylabel('Count')\n",
    "\n",
    "_ = sns.histplot(patterns.color_score, bins=10, kde=True)"
   ]
  },
  {
   "cell_type": "code",
   "execution_count": 224,
   "id": "465dafda",
   "metadata": {},
   "outputs": [],
   "source": [
    "# Now we're ready to solve some puzzles!\n",
    "\n",
    "patterns.sort_values('score', ascending=False).to_pickle('../data/patterns.pkl')"
   ]
  }
 ],
 "metadata": {
  "kernelspec": {
   "display_name": "Python 3 (ipykernel)",
   "language": "python",
   "name": "python3"
  },
  "language_info": {
   "codemirror_mode": {
    "name": "ipython",
    "version": 3
   },
   "file_extension": ".py",
   "mimetype": "text/x-python",
   "name": "python",
   "nbconvert_exporter": "python",
   "pygments_lexer": "ipython3",
   "version": "3.10.0"
  }
 },
 "nbformat": 4,
 "nbformat_minor": 5
}
