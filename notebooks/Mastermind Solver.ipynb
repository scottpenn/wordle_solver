{
 "cells": [
  {
   "cell_type": "code",
   "execution_count": 1,
   "id": "7ef1682f",
   "metadata": {},
   "outputs": [],
   "source": [
    "import pandas as pd\n",
    "import numpy as np\n",
    "import matplotlib.pyplot as plt\n",
    "import seaborn as sns\n",
    "\n",
    "import pickle\n",
    "from tqdm.notebook import tqdm\n",
    "\n",
    "from collections import Counter"
   ]
  },
  {
   "cell_type": "code",
   "execution_count": 2,
   "id": "4d06306b",
   "metadata": {},
   "outputs": [],
   "source": [
    "# I retrieve the dataframe created in patternle Setup notebook:\n",
    "\n",
    "all_patterns = pd.read_pickle('../data/patterns.pkl')\n",
    "all_patterns['guesses'] = 0\n",
    "all_patterns['times_guessed'] = 0"
   ]
  },
  {
   "cell_type": "code",
   "execution_count": 3,
   "id": "5ebf0c30",
   "metadata": {},
   "outputs": [],
   "source": [
    "colors = list('rgbypw')\n",
    "positions = [f'{position}{color}' for color in colors for position in range(1, 5)]"
   ]
  },
  {
   "cell_type": "code",
   "execution_count": 4,
   "id": "6ace30f7",
   "metadata": {},
   "outputs": [],
   "source": [
    "# The \"guess_pattern\" function takes the current state of the pattern DataFrame, and returns the best possible guess.\n",
    "# This function can be modified if the metric for evaluation changes.\n",
    "\n",
    "def guess_pattern(patterns):\n",
    "    best_patterns = patterns['score'].sort_values(ascending=False)\n",
    "    best_guess = best_patterns.index[0]\n",
    "            \n",
    "    return best_guess"
   ]
  },
  {
   "cell_type": "code",
   "execution_count": 5,
   "id": "213c1299",
   "metadata": {},
   "outputs": [],
   "source": [
    "# The \"evaluate_guess\" function takes the guessed pattern, and returns the evaluation for each color.\n",
    "# The function makes three passes through the colors in the guessed pattern.\n",
    "#\n",
    "# On the first pass, \"green\" colors are found.\n",
    "# \"Green\" colors are colors in the guessed pattern that are in the solution pattern and also in the same position.\n",
    "#\n",
    "# On the second pass, \"yellow\" and \"black\" colors are found.\n",
    "# \"Yellow\" colors are colors in the guessed pattern that are in the solution pattern but not in the same position.\n",
    "# \"Black\" colors are colors in the guessed pattern that are not in the solution pattern.\n",
    "# \n",
    "# The evaluations (\"green\", \"yellow\", or \"black\") determine which patterns can be eliminated as potential solutions.\n",
    "# During the second and third passes, the function eliminates invalid patterns from the solution set.\n",
    "\n",
    "\n",
    "def evaluate_guess(guess, solution, patterns, guessed_p):\n",
    "    \n",
    "    # Green denotes same color and same position\n",
    "    greens = 0\n",
    "    # Black denotes a color that does not exist in the solution\n",
    "    blacks = 0\n",
    "\n",
    "    guess_positions = patterns.loc[guess][positions].values.astype(int)\n",
    "    solution_positions = patterns.loc[solution][positions].values.astype(int)\n",
    "\n",
    "    overlap = guess_positions & solution_positions\n",
    "    greens = overlap.sum()\n",
    "    \n",
    "    guess_colors = patterns.loc[guess][colors].values.astype(int)\n",
    "    solution_colors = patterns.loc[solution][colors].values.astype(int)\n",
    "    \n",
    "    difference = np.maximum(solution_colors - guess_colors, 0)\n",
    "    blacks = difference.sum()\n",
    "    \n",
    "    green_condition = np.sum(patterns[positions] & guess_positions, axis=1) == greens\n",
    "    patterns['is_valid'].where(green_condition, False, inplace=True)\n",
    "    \n",
    "    black_condition = np.sum(np.maximum(patterns[colors] - guess_colors, 0), axis=1) == blacks\n",
    "    patterns['is_valid'].where(black_condition, False, inplace=True)\n",
    "        \n",
    "    return greens, 4 - (greens + blacks), blacks"
   ]
  },
  {
   "cell_type": "code",
   "execution_count": 6,
   "id": "423de546",
   "metadata": {},
   "outputs": [],
   "source": [
    "# The \"adjust_score\" function recalculates the \"color score\" and \"position score\" for each pattern.\n",
    "# The process for calculating these scores is identical to the process in the Mastermind Setup notebook.\n",
    "\n",
    "def adjust_score(patterns, patterns_l, patterns_p, guessed_p):\n",
    "    valid_patterns = patterns[patterns['is_valid']]\n",
    "    \n",
    "    valid_positions = valid_patterns[positions].values\n",
    "\n",
    "    position_scores = np.sum(valid_positions * guessed_p, axis=0) / len(valid_patterns) * 100\n",
    "    \n",
    "    color_scores = position_scores.reshape((-1, 4)).sum(axis=1)\n",
    "    \n",
    "    patterns['color_score'] = np.sum(color_scores * patterns_l, axis=1)\n",
    "        \n",
    "    patterns['position_score'] = np.sum(position_scores * patterns_p, axis=1)\n",
    "    \n",
    "    patterns['score'] = patterns['color_score'] + patterns['position_score']"
   ]
  },
  {
   "cell_type": "code",
   "execution_count": 7,
   "id": "4f86025a",
   "metadata": {},
   "outputs": [],
   "source": [
    "# The \"solve_pattern\" function takes a pattern and records the number of guesses it takes to solve for that pattern.\n",
    "# If the solution pattern is not guessed within six attempts, it returns a penalty of 100 guesses.\n",
    "#\n",
    "# If there is only one valid pattern remaining, the function returns the current guess number.\n",
    "#\n",
    "# If there are only two valid patterns, the function guesses the first of the two patterns.\n",
    "# Without this optimization, the algorithm will always guess an invalid pattern to eliminate one of the valid patterns.\n",
    "\n",
    "\n",
    "def solve_pattern(all_patterns, solution):\n",
    "    patterns = all_patterns.copy()\n",
    "\n",
    "    patterns_l = patterns[colors].astype(bool).values\n",
    "    patterns_p = patterns[positions].values\n",
    "\n",
    "    guessed_p = np.ones((len(positions),), dtype=float)\n",
    "    \n",
    "    for guess_num in range(1, 10):\n",
    "        valid_patterns = patterns[patterns['is_valid']]\n",
    "        if len(valid_patterns) == 1:\n",
    "            all_patterns.loc[solution, 'guesses'] = guess_num\n",
    "            return\n",
    "        elif len(valid_patterns) == 2:\n",
    "            guess = valid_patterns.index[0]\n",
    "        else:\n",
    "            guess = guess_pattern(valid_patterns)\n",
    "            \n",
    "        result = evaluate_guess(guess, solution, patterns, guessed_p)\n",
    "        \n",
    "#         print(guess, result, len(valid_patterns))\n",
    "        \n",
    "        if result == (4, 0):\n",
    "            all_patterns.loc[solution, 'guesses'] = guess_num\n",
    "            return\n",
    "        \n",
    "        all_patterns.loc[guess, 'times_guessed'] += 1\n",
    "        \n",
    "        adjust_score(patterns, patterns_l, patterns_p, guessed_p)\n",
    "            \n",
    "    # Penalty for failure to solve within 6 guesses.\n",
    "    print(solution)\n",
    "    all_patterns.loc[solution, 'guesses'] = 100"
   ]
  },
  {
   "cell_type": "code",
   "execution_count": 11,
   "id": "4e3a7267",
   "metadata": {},
   "outputs": [],
   "source": [
    "solve_pattern(all_patterns, 'wwpg')"
   ]
  },
  {
   "cell_type": "code",
   "execution_count": 12,
   "id": "c341f588",
   "metadata": {
    "scrolled": false
   },
   "outputs": [
    {
     "data": {
      "application/vnd.jupyter.widget-view+json": {
       "model_id": "ead62af8e43f46ef8cddcf014605302c",
       "version_major": 2,
       "version_minor": 0
      },
      "text/plain": [
       "  0%|          | 0/1170 [00:00<?, ?it/s]"
      ]
     },
     "metadata": {},
     "output_type": "display_data"
    }
   ],
   "source": [
    "# When I first solved for all 2315 patterns, the function solved six patterns every second on my machine.\n",
    "# After optimizing for performance, the function solves 25 patterns every second on my machine.\n",
    "\n",
    "for valid_pattern in tqdm(all_patterns[all_patterns['is_valid']].index):\n",
    "    solve_pattern(all_patterns, valid_pattern)"
   ]
  },
  {
   "cell_type": "code",
   "execution_count": 13,
   "id": "c908a827",
   "metadata": {
    "scrolled": true
   },
   "outputs": [
    {
     "data": {
      "image/png": "[encoded data removed]",
      "text/plain": [
       "<Figure size 432x288 with 1 Axes>"
      ]
     },
     "metadata": {
      "needs_background": "light"
     },
     "output_type": "display_data"
    }
   ],
   "source": [
    "# I make a count plot to visualize how well the algorithm performs:\n",
    "\n",
    "valid_patterns = all_patterns[all_patterns['is_valid']]\n",
    "\n",
    "plt.rcParams.update({'font.size': 14})\n",
    "ax = sns.countplot(x=valid_patterns.guesses, palette='Paired')\n",
    "_ = ax.bar_label(ax.containers[0])\n",
    "_ = ax.margins(y=0.1)\n",
    "_ = plt.title(\"Frequency of Guess Count\")\n",
    "_ = plt.savefig('../results_mastermind.png', facecolor='white', bbox_inches='tight')"
   ]
  },
  {
   "cell_type": "code",
   "execution_count": 14,
   "id": "88baf822",
   "metadata": {
    "scrolled": true
   },
   "outputs": [
    {
     "data": {
      "text/plain": [
       "5.04"
      ]
     },
     "execution_count": 14,
     "metadata": {},
     "output_type": "execute_result"
    }
   ],
   "source": [
    "# The mean guess count:\n",
    "\n",
    "round(np.mean(valid_patterns.guesses), 2)"
   ]
  },
  {
   "cell_type": "code",
   "execution_count": 15,
   "id": "744011fd",
   "metadata": {},
   "outputs": [
    {
     "data": {
      "text/plain": [
       "5900"
      ]
     },
     "execution_count": 15,
     "metadata": {},
     "output_type": "execute_result"
    }
   ],
   "source": [
    "# The total number of guesses for all patterns:\n",
    "\n",
    "np.sum(valid_patterns.guesses)\n",
    "\n",
    "# This is the number that I would use to compare my algorithm with others.\n",
    "# There are many ways that I could improve my algorithm from here.\n",
    "# I could adjust the ratio between the \"position score\" and the \"color score.\"\n",
    "# I could also try different patterns for the first guess."
   ]
  },
  {
   "cell_type": "code",
   "execution_count": 16,
   "id": "a2a2e259",
   "metadata": {
    "scrolled": false
   },
   "outputs": [
    {
     "data": {
      "text/html": [
       "<div>\n",
       "<style scoped>\n",
       "    .dataframe tbody tr th:only-of-type {\n",
       "        vertical-align: middle;\n",
       "    }\n",
       "\n",
       "    .dataframe tbody tr th {\n",
       "        vertical-align: top;\n",
       "    }\n",
       "\n",
       "    .dataframe thead th {\n",
       "        text-align: right;\n",
       "    }\n",
       "</style>\n",
       "<table border=\"1\" class=\"dataframe\">\n",
       "  <thead>\n",
       "    <tr style=\"text-align: right;\">\n",
       "      <th></th>\n",
       "      <th>is_valid</th>\n",
       "      <th>times_guessed</th>\n",
       "      <th>score</th>\n",
       "    </tr>\n",
       "    <tr>\n",
       "      <th>pattern</th>\n",
       "      <th></th>\n",
       "      <th></th>\n",
       "      <th></th>\n",
       "    </tr>\n",
       "  </thead>\n",
       "  <tbody>\n",
       "    <tr>\n",
       "      <th>rgby</th>\n",
       "      <td>True</td>\n",
       "      <td>1171</td>\n",
       "      <td>333.333333</td>\n",
       "    </tr>\n",
       "    <tr>\n",
       "      <th>ypgw</th>\n",
       "      <td>True</td>\n",
       "      <td>300</td>\n",
       "      <td>333.333333</td>\n",
       "    </tr>\n",
       "    <tr>\n",
       "      <th>bgwp</th>\n",
       "      <td>True</td>\n",
       "      <td>228</td>\n",
       "      <td>333.333333</td>\n",
       "    </tr>\n",
       "    <tr>\n",
       "      <th>yprg</th>\n",
       "      <td>True</td>\n",
       "      <td>136</td>\n",
       "      <td>333.333333</td>\n",
       "    </tr>\n",
       "    <tr>\n",
       "      <th>rpyb</th>\n",
       "      <td>True</td>\n",
       "      <td>132</td>\n",
       "      <td>333.333333</td>\n",
       "    </tr>\n",
       "    <tr>\n",
       "      <th>...</th>\n",
       "      <td>...</td>\n",
       "      <td>...</td>\n",
       "      <td>...</td>\n",
       "    </tr>\n",
       "    <tr>\n",
       "      <th>ppwy</th>\n",
       "      <td>True</td>\n",
       "      <td>2</td>\n",
       "      <td>266.666667</td>\n",
       "    </tr>\n",
       "    <tr>\n",
       "      <th>wgwy</th>\n",
       "      <td>True</td>\n",
       "      <td>2</td>\n",
       "      <td>266.666667</td>\n",
       "    </tr>\n",
       "    <tr>\n",
       "      <th>pprb</th>\n",
       "      <td>True</td>\n",
       "      <td>2</td>\n",
       "      <td>266.666667</td>\n",
       "    </tr>\n",
       "    <tr>\n",
       "      <th>rbgr</th>\n",
       "      <td>True</td>\n",
       "      <td>2</td>\n",
       "      <td>266.666667</td>\n",
       "    </tr>\n",
       "    <tr>\n",
       "      <th>ywyw</th>\n",
       "      <td>True</td>\n",
       "      <td>2</td>\n",
       "      <td>200.000000</td>\n",
       "    </tr>\n",
       "  </tbody>\n",
       "</table>\n",
       "<p>475 rows × 3 columns</p>\n",
       "</div>"
      ],
      "text/plain": [
       "         is_valid  times_guessed       score\n",
       "pattern                                     \n",
       "rgby         True           1171  333.333333\n",
       "ypgw         True            300  333.333333\n",
       "bgwp         True            228  333.333333\n",
       "yprg         True            136  333.333333\n",
       "rpyb         True            132  333.333333\n",
       "...           ...            ...         ...\n",
       "ppwy         True              2  266.666667\n",
       "wgwy         True              2  266.666667\n",
       "pprb         True              2  266.666667\n",
       "rbgr         True              2  266.666667\n",
       "ywyw         True              2  200.000000\n",
       "\n",
       "[475 rows x 3 columns]"
      ]
     },
     "execution_count": 16,
     "metadata": {},
     "output_type": "execute_result"
    }
   ],
   "source": [
    "# A list of patterns guessed by the algorithm, not counting solution patterns:\n",
    "\n",
    "patterns_guessed = all_patterns.query('times_guessed > 0')[['is_valid', 'times_guessed', 'score']]\n",
    "patterns_guessed.sort_values('times_guessed', ascending=False)\n",
    "\n",
    "# Only ~700 patterns are guessed out of the ~13,000 patterns in the pattern bank."
   ]
  },
  {
   "cell_type": "code",
   "execution_count": 17,
   "id": "bbc848d7",
   "metadata": {},
   "outputs": [
    {
     "data": {
      "text/plain": [
       "<AxesSubplot:xlabel='score', ylabel='times_guessed'>"
      ]
     },
     "execution_count": 17,
     "metadata": {},
     "output_type": "execute_result"
    },
    {
     "data": {
      "image/png": "[encoded data removed]",
      "text/plain": [
       "<Figure size 432x288 with 1 Axes>"
      ]
     },
     "metadata": {
      "needs_background": "light"
     },
     "output_type": "display_data"
    }
   ],
   "source": [
    "sns.scatterplot(x=patterns_guessed.iloc[1:].score, y=patterns_guessed.iloc[1:].times_guessed)"
   ]
  },
  {
   "cell_type": "code",
   "execution_count": 18,
   "id": "e3bf2f57",
   "metadata": {},
   "outputs": [
    {
     "data": {
      "text/plain": [
       "True    475\n",
       "Name: is_valid, dtype: int64"
      ]
     },
     "execution_count": 18,
     "metadata": {},
     "output_type": "execute_result"
    }
   ],
   "source": [
    "patterns_guessed.is_valid.value_counts()"
   ]
  }
 ],
 "metadata": {
  "kernelspec": {
   "display_name": "Python 3 (ipykernel)",
   "language": "python",
   "name": "python3"
  },
  "language_info": {
   "codemirror_mode": {
    "name": "ipython",
    "version": 3
   },
   "file_extension": ".py",
   "mimetype": "text/x-python",
   "name": "python",
   "nbconvert_exporter": "python",
   "pygments_lexer": "ipython3",
   "version": "3.10.0"
  }
 },
 "nbformat": 4,
 "nbformat_minor": 5
}
