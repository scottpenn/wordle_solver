{
 "cells": [
  {
   "cell_type": "code",
   "execution_count": 1,
   "id": "7ef1682f",
   "metadata": {},
   "outputs": [],
   "source": [
    "import pandas as pd\n",
    "import numpy as np\n",
    "import matplotlib.pyplot as plt\n",
    "import seaborn as sns\n",
    "\n",
    "import pickle\n",
    "import string\n",
    "from tqdm.notebook import tqdm\n",
    "\n",
    "from collections import Counter"
   ]
  },
  {
   "cell_type": "code",
   "execution_count": 2,
   "id": "4d06306b",
   "metadata": {},
   "outputs": [],
   "source": [
    "# I retrieve the dataframe created in Wordle Setup notebook:\n",
    "\n",
    "all_words = pd.read_pickle('../data/words.pkl')\n",
    "all_words['guesses'] = 0\n",
    "all_words['times_guessed'] = 0"
   ]
  },
  {
   "cell_type": "code",
   "execution_count": 3,
   "id": "5ebf0c30",
   "metadata": {},
   "outputs": [],
   "source": [
    "letters = [letter for letter in string.ascii_lowercase]\n",
    "positions = [f'{position}{letter}' for letter in letters for position in range(1, 6)]"
   ]
  },
  {
   "cell_type": "code",
   "execution_count": 4,
   "id": "6ace30f7",
   "metadata": {},
   "outputs": [],
   "source": [
    "# The \"guess_word\" function takes the current state of the word DataFrame, and returns the best possible guess.\n",
    "# This function can be modified if the metric for evaluation changes.\n",
    "\n",
    "def guess_word(words):\n",
    "    best_words = words['score'].sort_values(ascending=False)\n",
    "    best_guess = best_words.index[0]\n",
    "            \n",
    "    return best_guess"
   ]
  },
  {
   "cell_type": "code",
   "execution_count": 5,
   "id": "213c1299",
   "metadata": {},
   "outputs": [],
   "source": [
    "# The \"evaluate_guess\" function takes the guessed word, and returns the evaluation for each letter.\n",
    "# The function makes three passes through the letters in the guessed word.\n",
    "#\n",
    "# On the first pass, \"green\" letters are found.\n",
    "# \"Green\" letters are letters in the guessed word that are in the solution word and also in the same position.\n",
    "#\n",
    "# On the second pass, \"yellow\" and \"black\" letters are found.\n",
    "# \"Yellow\" letters are letters in the guessed word that are in the solution word but not in the same position.\n",
    "# \"Black\" letters are letters in the guessed word that are not in the solution word.\n",
    "# \n",
    "# The evaluations (\"green\", \"yellow\", or \"black\") determine which words can be eliminated as potential solutions.\n",
    "# During the second and third passes, the function eliminates invalid words from the solution set.\n",
    "\n",
    "\n",
    "def evaluate_guess(guess, solution, words, guessed_p):    \n",
    "    result = ['?', '?', '?', '?', '?']\n",
    "\n",
    "    guess_counts = Counter(guess)\n",
    "    solution_counts = Counter(solution)\n",
    "    \n",
    "    green_counts = Counter()\n",
    "    yellow_counts = Counter()\n",
    "\n",
    "    # First pass\n",
    "    for pos in range(5):\n",
    "        letter = guess[pos]\n",
    "        index = (ord(letter) - ord('a')) * 5 + pos\n",
    "        guessed_p[index] = 0\n",
    "        \n",
    "        if solution[pos] == letter:\n",
    "            result[pos] = 'g'\n",
    "            green_counts[letter] += 1\n",
    "            \n",
    "    # Second pass\n",
    "    for pos in range(5):\n",
    "        letter = guess[pos]\n",
    "        position = f'{pos+1}{letter}'\n",
    "\n",
    "        if result[pos] == 'g':\n",
    "            words['is_valid'] *= words[position].values.astype(bool)\n",
    "\n",
    "        elif solution_counts[letter] - (green_counts[letter] + yellow_counts[letter]) > 0:\n",
    "            result[pos] = 'y'\n",
    "            words['is_valid'] *= ~words[position].values.astype(bool)\n",
    "            yellow_counts[letter] += 1\n",
    "            \n",
    "        else:\n",
    "            result[pos] = 'b'\n",
    "            if green_counts[letter] > 0:\n",
    "                for i in range(pos, 5):\n",
    "                    if not (guess[i] == letter and result[i] == 'g'):\n",
    "                        words['is_valid'] *= ~words[f'{i+1}{letter}'].values.astype(bool)\n",
    "            elif yellow_counts[letter] > 0:\n",
    "                words['is_valid'] *= ~words[position].values.astype(bool)\n",
    "            else:\n",
    "                words['is_valid'] *= ~words[letter].astype(bool)\n",
    "                \n",
    "    # Final pass\n",
    "    for letter in set(guess):\n",
    "        if (letter_count := (green_counts[letter] + yellow_counts[letter])) > 0:\n",
    "            words['is_valid'] *= (words[letter].values >= letter_count)\n",
    "        \n",
    "    return ''.join(result)"
   ]
  },
  {
   "cell_type": "code",
   "execution_count": 6,
   "id": "423de546",
   "metadata": {},
   "outputs": [],
   "source": [
    "# The \"adjust_score\" function recalculates the \"letter score\" and \"position score\" for each word.\n",
    "# The process for calculating these scores is identical to the process in the Wordle Setup notebook.\n",
    "\n",
    "def adjust_score(words, words_l, words_p, guessed_p):\n",
    "    valid_words = words[words['is_valid']]\n",
    "    \n",
    "    valid_positions = valid_words[positions].values\n",
    "\n",
    "    position_scores = np.sum(valid_positions * guessed_p, axis=0) / len(valid_words) * 100\n",
    "    \n",
    "    letter_scores = position_scores.reshape((-1, 5)).sum(axis=1)\n",
    "    \n",
    "    words['letter_score'] = np.sum(letter_scores * words_l, axis=1)\n",
    "        \n",
    "    words['position_score'] = np.sum(position_scores * words_p, axis=1)\n",
    "    \n",
    "    words['score'] = words['letter_score'] + words['position_score']"
   ]
  },
  {
   "cell_type": "code",
   "execution_count": 7,
   "id": "4f86025a",
   "metadata": {},
   "outputs": [],
   "source": [
    "# The \"solve_word\" function takes a word and records the number of guesses it takes to solve for that word.\n",
    "# If the solution word is not guessed within six attempts, it returns a penalty of 100 guesses.\n",
    "#\n",
    "# If there is only one valid word remaining, the function returns the current guess number.\n",
    "#\n",
    "# If there are only two valid words, the function guesses the first of the two words.\n",
    "# Without this optimization, the algorithm will always guess an invalid word to eliminate one of the valid words.\n",
    "\n",
    "\n",
    "def solve_word(all_words, solution):\n",
    "    words = all_words.copy()\n",
    "\n",
    "    words_l = words[letters].astype(bool).values\n",
    "    words_p = words[positions].values\n",
    "\n",
    "    guessed_p = np.ones((len(positions),), dtype=int)\n",
    "    \n",
    "    for guess_num in range(1, 7):\n",
    "        valid_words = words[words['is_valid']]\n",
    "        if len(valid_words) == 1:\n",
    "            all_words.loc[solution, 'guesses'] = guess_num\n",
    "            return\n",
    "        elif len(valid_words) == 2:\n",
    "            guess = valid_words.index[0]\n",
    "        else:\n",
    "            guess = guess_word(words)\n",
    "            \n",
    "        result = evaluate_guess(guess, solution, words, guessed_p)\n",
    "        \n",
    "        if result == 'ggggg':\n",
    "            all_words.loc[solution, 'guesses'] = guess_num\n",
    "            return\n",
    "        \n",
    "        all_words.loc[guess, 'times_guessed'] += 1\n",
    "        \n",
    "        adjust_score(words, words_l, words_p, guessed_p)\n",
    "            \n",
    "    # Penalty for failure to solve within 6 guesses.\n",
    "    print(solution)\n",
    "    all_words.loc[solution, 'guesses'] = 100"
   ]
  },
  {
   "cell_type": "code",
   "execution_count": 8,
   "id": "c341f588",
   "metadata": {
    "scrolled": false
   },
   "outputs": [
    {
     "data": {
      "application/vnd.jupyter.widget-view+json": {
       "model_id": "f01138ffdef247bebe8cd13921ae8689",
       "version_major": 2,
       "version_minor": 0
      },
      "text/plain": [
       "  0%|          | 0/2315 [00:00<?, ?it/s]"
      ]
     },
     "metadata": {},
     "output_type": "display_data"
    }
   ],
   "source": [
    "# When I first solved for all 2315 words, the function solved six words every second on my machine.\n",
    "# After optimizing for performance, the function solves 25 words every second on my machine.\n",
    "\n",
    "for valid_word in tqdm(all_words[all_words['is_valid']].index):\n",
    "    solve_word(all_words, valid_word)"
   ]
  },
  {
   "cell_type": "code",
   "execution_count": 29,
   "id": "c908a827",
   "metadata": {
    "scrolled": true
   },
   "outputs": [
    {
     "data": {
      "image/png": "[encoded data removed]",
      "text/plain": [
       "<Figure size 432x288 with 1 Axes>"
      ]
     },
     "metadata": {
      "needs_background": "light"
     },
     "output_type": "display_data"
    }
   ],
   "source": [
    "# I make a count plot to visualize how well the algorithm performs:\n",
    "\n",
    "valid_words = all_words[all_words['is_valid']]\n",
    "\n",
    "plt.rcParams.update({'font.size': 14})\n",
    "ax = sns.countplot(x=valid_words.guesses, palette='Paired')\n",
    "_ = ax.bar_label(ax.containers[0])\n",
    "_ = ax.margins(y=0.1)\n",
    "_ = plt.title(\"Frequency of Guess Count\")\n",
    "_ = plt.savefig('../results.png', facecolor='white', bbox_inches='tight')\n",
    "\n",
    "# Most words are solved in four guesses or fewer.\n",
    "# Every word is solved within the required six-guess limit.\n",
    "# These are the words that take six guesses to solve:\n",
    "# maker, waver, rarer, riper, revel, taunt, hatch, wedge, vouch, hitch, tight, daddy"
   ]
  },
  {
   "cell_type": "code",
   "execution_count": 10,
   "id": "88baf822",
   "metadata": {
    "scrolled": true
   },
   "outputs": [
    {
     "data": {
      "text/plain": [
       "3.66"
      ]
     },
     "execution_count": 10,
     "metadata": {},
     "output_type": "execute_result"
    }
   ],
   "source": [
    "# The mean guess count:\n",
    "\n",
    "round(np.mean(valid_words.guesses), 2)"
   ]
  },
  {
   "cell_type": "code",
   "execution_count": 11,
   "id": "744011fd",
   "metadata": {},
   "outputs": [
    {
     "data": {
      "text/plain": [
       "8477"
      ]
     },
     "execution_count": 11,
     "metadata": {},
     "output_type": "execute_result"
    }
   ],
   "source": [
    "# The total number of guesses for all words:\n",
    "\n",
    "np.sum(valid_words.guesses)\n",
    "\n",
    "# This is the number that I would use to compare my algorithm with others.\n",
    "# There are many ways that I could improve my algorithm from here.\n",
    "# I could adjust the ratio between the \"position score\" and the \"letter score.\"\n",
    "# I could also try different words for the first guess."
   ]
  },
  {
   "cell_type": "code",
   "execution_count": 16,
   "id": "a2a2e259",
   "metadata": {
    "scrolled": false
   },
   "outputs": [
    {
     "data": {
      "text/html": [
       "<div>\n",
       "<style scoped>\n",
       "    .dataframe tbody tr th:only-of-type {\n",
       "        vertical-align: middle;\n",
       "    }\n",
       "\n",
       "    .dataframe tbody tr th {\n",
       "        vertical-align: top;\n",
       "    }\n",
       "\n",
       "    .dataframe thead th {\n",
       "        text-align: right;\n",
       "    }\n",
       "</style>\n",
       "<table border=\"1\" class=\"dataframe\">\n",
       "  <thead>\n",
       "    <tr style=\"text-align: right;\">\n",
       "      <th></th>\n",
       "      <th>is_valid</th>\n",
       "      <th>times_guessed</th>\n",
       "      <th>score</th>\n",
       "    </tr>\n",
       "  </thead>\n",
       "  <tbody>\n",
       "    <tr>\n",
       "      <th>soare</th>\n",
       "      <td>False</td>\n",
       "      <td>2315</td>\n",
       "      <td>261.857451</td>\n",
       "    </tr>\n",
       "    <tr>\n",
       "      <th>linty</th>\n",
       "      <td>False</td>\n",
       "      <td>183</td>\n",
       "      <td>174.989201</td>\n",
       "    </tr>\n",
       "    <tr>\n",
       "      <th>canty</th>\n",
       "      <td>False</td>\n",
       "      <td>138</td>\n",
       "      <td>186.997840</td>\n",
       "    </tr>\n",
       "    <tr>\n",
       "      <th>inlet</th>\n",
       "      <td>True</td>\n",
       "      <td>119</td>\n",
       "      <td>204.362851</td>\n",
       "    </tr>\n",
       "    <tr>\n",
       "      <th>cider</th>\n",
       "      <td>True</td>\n",
       "      <td>116</td>\n",
       "      <td>202.073434</td>\n",
       "    </tr>\n",
       "    <tr>\n",
       "      <th>...</th>\n",
       "      <td>...</td>\n",
       "      <td>...</td>\n",
       "      <td>...</td>\n",
       "    </tr>\n",
       "    <tr>\n",
       "      <th>topic</th>\n",
       "      <td>True</td>\n",
       "      <td>1</td>\n",
       "      <td>158.660907</td>\n",
       "    </tr>\n",
       "    <tr>\n",
       "      <th>ultra</th>\n",
       "      <td>True</td>\n",
       "      <td>1</td>\n",
       "      <td>188.077754</td>\n",
       "    </tr>\n",
       "    <tr>\n",
       "      <th>lodge</th>\n",
       "      <td>True</td>\n",
       "      <td>1</td>\n",
       "      <td>187.991361</td>\n",
       "    </tr>\n",
       "    <tr>\n",
       "      <th>ensue</th>\n",
       "      <td>True</td>\n",
       "      <td>1</td>\n",
       "      <td>159.352052</td>\n",
       "    </tr>\n",
       "    <tr>\n",
       "      <th>syrup</th>\n",
       "      <td>True</td>\n",
       "      <td>1</td>\n",
       "      <td>151.922246</td>\n",
       "    </tr>\n",
       "  </tbody>\n",
       "</table>\n",
       "<p>702 rows × 3 columns</p>\n",
       "</div>"
      ],
      "text/plain": [
       "       is_valid  times_guessed       score\n",
       "soare     False           2315  261.857451\n",
       "linty     False            183  174.989201\n",
       "canty     False            138  186.997840\n",
       "inlet      True            119  204.362851\n",
       "cider      True            116  202.073434\n",
       "...         ...            ...         ...\n",
       "topic      True              1  158.660907\n",
       "ultra      True              1  188.077754\n",
       "lodge      True              1  187.991361\n",
       "ensue      True              1  159.352052\n",
       "syrup      True              1  151.922246\n",
       "\n",
       "[702 rows x 3 columns]"
      ]
     },
     "execution_count": 16,
     "metadata": {},
     "output_type": "execute_result"
    }
   ],
   "source": [
    "# A list of words guessed by the algorithm, not counting solution words:\n",
    "\n",
    "words_guessed = all_words.query('times_guessed > 0')[['is_valid', 'times_guessed', 'score']]\n",
    "words_guessed.sort_values('times_guessed', ascending=False)\n",
    "\n",
    "# Only ~700 words are guessed out of the ~13,000 words in the word bank."
   ]
  },
  {
   "cell_type": "code",
   "execution_count": 29,
   "id": "bbc848d7",
   "metadata": {},
   "outputs": [
    {
     "data": {
      "text/plain": [
       "<AxesSubplot:xlabel='score', ylabel='times_guessed'>"
      ]
     },
     "execution_count": 29,
     "metadata": {},
     "output_type": "execute_result"
    },
    {
     "data": {
      "image/png": "[encoded data removed]",
      "text/plain": [
       "<Figure size 432x288 with 1 Axes>"
      ]
     },
     "metadata": {
      "needs_background": "light"
     },
     "output_type": "display_data"
    }
   ],
   "source": [
    "sns.scatterplot(x=words_guessed.iloc[1:].score, y=words_guessed.iloc[1:].times_guessed)"
   ]
  },
  {
   "cell_type": "code",
   "execution_count": 17,
   "id": "e3bf2f57",
   "metadata": {},
   "outputs": [
    {
     "data": {
      "text/plain": [
       "True     519\n",
       "False    183\n",
       "Name: is_valid, dtype: int64"
      ]
     },
     "execution_count": 17,
     "metadata": {},
     "output_type": "execute_result"
    }
   ],
   "source": [
    "words_guessed.is_valid.value_counts()"
   ]
  }
 ],
 "metadata": {
  "kernelspec": {
   "display_name": "Python 3 (ipykernel)",
   "language": "python",
   "name": "python3"
  },
  "language_info": {
   "codemirror_mode": {
    "name": "ipython",
    "version": 3
   },
   "file_extension": ".py",
   "mimetype": "text/x-python",
   "name": "python",
   "nbconvert_exporter": "python",
   "pygments_lexer": "ipython3",
   "version": "3.10.0"
  }
 },
 "nbformat": 4,
 "nbformat_minor": 5
}
