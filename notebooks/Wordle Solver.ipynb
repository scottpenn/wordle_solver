{
 "cells": [
  {
   "cell_type": "code",
   "execution_count": 17,
   "id": "7ef1682f",
   "metadata": {},
   "outputs": [],
   "source": [
    "import pandas as pd\n",
    "import numpy as np\n",
    "import matplotlib.pyplot as plt\n",
    "\n",
    "import pickle\n",
    "import string\n",
    "from tqdm.notebook import tqdm\n",
    "\n",
    "from collections import Counter\n",
    "from copy import deepcopy"
   ]
  },
  {
   "cell_type": "code",
   "execution_count": 18,
   "id": "4d06306b",
   "metadata": {},
   "outputs": [
    {
     "name": "stdout",
     "output_type": "stream",
     "text": [
      "CPU times: user 4.35 ms, sys: 4.82 ms, total: 9.18 ms\n",
      "Wall time: 7.51 ms\n"
     ]
    }
   ],
   "source": [
    "%%time\n",
    "\n",
    "all_words = pd.read_pickle('../data/words.pkl')"
   ]
  },
  {
   "cell_type": "code",
   "execution_count": 19,
   "id": "5ebf0c30",
   "metadata": {},
   "outputs": [
    {
     "name": "stdout",
     "output_type": "stream",
     "text": [
      "CPU times: user 40 µs, sys: 2 µs, total: 42 µs\n",
      "Wall time: 44.1 µs\n"
     ]
    }
   ],
   "source": [
    "%%time\n",
    "\n",
    "letters = [letter for letter in string.ascii_lowercase]\n",
    "positions = [f'{position}{letter}' for letter in letters for position in range(1, 6)]"
   ]
  },
  {
   "cell_type": "code",
   "execution_count": 20,
   "id": "6ace30f7",
   "metadata": {},
   "outputs": [],
   "source": [
    "def guess_word(words):    \n",
    "    \n",
    "    words['score'] = words['letter_score'] + words['position_score']\n",
    "    \n",
    "    \n",
    "    if len((valid_words := words[words['is_valid']]['score'])) <= 2:\n",
    "        return valid_words.index[0], valid_words[0]\n",
    "    \n",
    "    words['score'].where(words['is_valid'], words['score'], inplace=True)\n",
    "\n",
    "    best_words = words['score'].sort_values(ascending=False)\n",
    "        \n",
    "    guess = best_words.index[0]\n",
    "    score = best_words[0]\n",
    "            \n",
    "    return guess, score"
   ]
  },
  {
   "cell_type": "code",
   "execution_count": 21,
   "id": "213c1299",
   "metadata": {},
   "outputs": [],
   "source": [
    "def evaluate_guess(guess, solution, words, guessed_p):     \n",
    "    result = ['?', '?', '?', '?', '?']\n",
    "\n",
    "    guess_counts = Counter(guess)\n",
    "    solution_counts = Counter(solution)\n",
    "    green_counts = Counter()\n",
    "    yellow_counts = Counter()\n",
    "\n",
    "    # First pass\n",
    "    for pos in range(5):\n",
    "        letter = guess[pos]\n",
    "\n",
    "        guessed_p[(ord(letter) - ord('a')) * 5 + pos] = 0\n",
    "        \n",
    "        if letter == solution[pos]:\n",
    "            result[pos] = 'g'\n",
    "            green_counts[letter] += 1\n",
    "            \n",
    "    # Second pass\n",
    "    for pos in range(5):\n",
    "        letter = guess[pos]\n",
    "        position = f'{pos+1}{letter}'\n",
    "\n",
    "        if result[pos] == 'g':\n",
    "            words['is_valid'] *= words[position].values.astype(bool)\n",
    "\n",
    "        elif solution_counts[letter] - (green_counts[letter] + yellow_counts[letter]) > 0:\n",
    "            result[pos] = 'y'\n",
    "            words['is_valid'] *= ~words[position].values.astype(bool)\n",
    "            yellow_counts[letter] += 1\n",
    "            \n",
    "        else:\n",
    "            result[pos] = 'b'\n",
    "            if green_counts[letter] > 0:\n",
    "                for i in range(pos, 5):\n",
    "                    if not (guess[i] == letter and result[i] == 'g'):\n",
    "                        words['is_valid'] *= ~words[f'{i+1}{letter}'].values.astype(bool)\n",
    "            elif yellow_counts[letter] > 0:\n",
    "                words['is_valid'] *= ~words[position].values.astype(bool)\n",
    "            else:\n",
    "                words['is_valid'] *= ~words[letter].astype(bool)\n",
    "                \n",
    "    # Final pass\n",
    "    for letter in set(guess):\n",
    "        if (letter_count := (green_counts[letter] + yellow_counts[letter])) > 0:\n",
    "            words['is_valid'] *= (words[letter].values >= letter_count)\n",
    "        \n",
    "    return ''.join(result)"
   ]
  },
  {
   "cell_type": "code",
   "execution_count": 22,
   "id": "423de546",
   "metadata": {},
   "outputs": [],
   "source": [
    "def adjust_score(words, words_l, words_p, guessed_p):\n",
    "    \n",
    "    valid_words = words[words['is_valid']]\n",
    "    total_valid_words = valid_words.shape[0]\n",
    "    \n",
    "    valid_positions = valid_words[positions].values\n",
    "\n",
    "    position_scores = np.sum(valid_positions * guessed_p, axis=0) / total_valid_words * 100\n",
    "    \n",
    "    letter_scores = position_scores.reshape((-1, 5)).sum(axis=1) / 5\n",
    "    \n",
    "    words['letter_score'] = np.sum(letter_scores * words_l, axis=1)\n",
    "        \n",
    "    words['position_score'] = np.sum(position_scores * words_p, axis=1)"
   ]
  },
  {
   "cell_type": "code",
   "execution_count": 34,
   "id": "4f86025a",
   "metadata": {},
   "outputs": [],
   "source": [
    "def solve_word(solution, first_guess=None):\n",
    "    words = all_words.copy()\n",
    "\n",
    "    words_l = words[letters].astype(bool).values\n",
    "    words_p = words[positions].values\n",
    "\n",
    "    guessed_p = np.ones((len(positions),), dtype=int)\n",
    "    \n",
    "    for guess_num in range(1, 10):\n",
    "        if guess_num == 1 and first_guess is not None:\n",
    "            guess, score = (first_guess, words.loc[first_guess].score)\n",
    "        else:\n",
    "            guess, score = guess_word(words)\n",
    "            \n",
    "        result = evaluate_guess(guess, solution, words, guessed_p)\n",
    "        print(guess, f'{score:.2f}', result)\n",
    "        if result == 'ggggg':\n",
    "            return solution, guess_num\n",
    "        \n",
    "        adjust_score(words, words_l, words_p, guessed_p)\n",
    "            \n",
    "    return solution, 100"
   ]
  },
  {
   "cell_type": "code",
   "execution_count": 38,
   "id": "312e39ba",
   "metadata": {
    "scrolled": true
   },
   "outputs": [
    {
     "name": "stdout",
     "output_type": "stream",
     "text": [
      "soare 261.86 bbbbb\n",
      "juicy 146.99 bbybg\n",
      "dilli 201.43 bgbbb\n",
      "pints 124.62 bgbgb\n",
      "fetwa 130.00 bbgbb\n",
      "bitty 60.00 bgggg\n",
      "kitty 120.00 ggggg\n",
      "CPU times: user 83.1 ms, sys: 10.6 ms, total: 93.7 ms\n",
      "Wall time: 89.2 ms\n"
     ]
    },
    {
     "data": {
      "text/plain": [
       "('kitty', 7)"
      ]
     },
     "execution_count": 38,
     "metadata": {},
     "output_type": "execute_result"
    }
   ],
   "source": [
    "%%time\n",
    "\n",
    "solve_word('kitty')"
   ]
  },
  {
   "cell_type": "code",
   "execution_count": 26,
   "id": "c341f588",
   "metadata": {
    "scrolled": false
   },
   "outputs": [
    {
     "data": {
      "application/vnd.jupyter.widget-view+json": {
       "model_id": "c32dccaeac404414b849f907bca0274a",
       "version_major": 2,
       "version_minor": 0
      },
      "text/plain": [
       "  0%|          | 0/2315 [00:00<?, ?it/s]"
      ]
     },
     "metadata": {},
     "output_type": "display_data"
    }
   ],
   "source": [
    "solutions = [solve_word(valid_word) for valid_word in tqdm(all_words[all_words['is_valid']].index)]"
   ]
  },
  {
   "cell_type": "code",
   "execution_count": 27,
   "id": "f845341e",
   "metadata": {},
   "outputs": [],
   "source": [
    "solutions = pd.DataFrame(solutions, columns=['word', 'guesses']).set_index('word').sort_values('guesses')"
   ]
  },
  {
   "cell_type": "code",
   "execution_count": 28,
   "id": "d5e0d553",
   "metadata": {},
   "outputs": [
    {
     "data": {
      "text/html": [
       "<div>\n",
       "<style scoped>\n",
       "    .dataframe tbody tr th:only-of-type {\n",
       "        vertical-align: middle;\n",
       "    }\n",
       "\n",
       "    .dataframe tbody tr th {\n",
       "        vertical-align: top;\n",
       "    }\n",
       "\n",
       "    .dataframe thead th {\n",
       "        text-align: right;\n",
       "    }\n",
       "</style>\n",
       "<table border=\"1\" class=\"dataframe\">\n",
       "  <thead>\n",
       "    <tr style=\"text-align: right;\">\n",
       "      <th></th>\n",
       "      <th>guesses</th>\n",
       "    </tr>\n",
       "    <tr>\n",
       "      <th>word</th>\n",
       "      <th></th>\n",
       "    </tr>\n",
       "  </thead>\n",
       "  <tbody>\n",
       "  </tbody>\n",
       "</table>\n",
       "</div>"
      ],
      "text/plain": [
       "Empty DataFrame\n",
       "Columns: [guesses]\n",
       "Index: []"
      ]
     },
     "execution_count": 28,
     "metadata": {},
     "output_type": "execute_result"
    }
   ],
   "source": [
    "solutions[solutions.guesses == 100]"
   ]
  },
  {
   "cell_type": "code",
   "execution_count": 29,
   "id": "c908a827",
   "metadata": {
    "scrolled": false
   },
   "outputs": [
    {
     "data": {
      "text/plain": [
       "(array([  74.,  805., 1119.,  290.,   27.]),\n",
       " array([2, 3, 4, 5, 6, 7]),\n",
       " <BarContainer object of 5 artists>)"
      ]
     },
     "execution_count": 29,
     "metadata": {},
     "output_type": "execute_result"
    },
    {
     "data": {
      "image/png": "[encoded data removed]",
      "text/plain": [
       "<Figure size 432x288 with 1 Axes>"
      ]
     },
     "metadata": {
      "needs_background": "light"
     },
     "output_type": "display_data"
    }
   ],
   "source": [
    "plt.hist(solutions.guesses, bins=[2, 3, 4, 5, 6, 7])"
   ]
  }
 ],
 "metadata": {
  "kernelspec": {
   "display_name": "Python 3 (ipykernel)",
   "language": "python",
   "name": "python3"
  },
  "language_info": {
   "codemirror_mode": {
    "name": "ipython",
    "version": 3
   },
   "file_extension": ".py",
   "mimetype": "text/x-python",
   "name": "python",
   "nbconvert_exporter": "python",
   "pygments_lexer": "ipython3",
   "version": "3.10.0"
  }
 },
 "nbformat": 4,
 "nbformat_minor": 5
}
