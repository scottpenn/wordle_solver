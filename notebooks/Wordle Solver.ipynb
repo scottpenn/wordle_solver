{
 "cells": [
  {
   "cell_type": "code",
   "execution_count": 1,
   "id": "7ef1682f",
   "metadata": {},
   "outputs": [],
   "source": [
    "import pandas as pd\n",
    "import numpy as np\n",
    "import matplotlib.pyplot as plt\n",
    "import seaborn as sns\n",
    "\n",
    "import pickle\n",
    "import string\n",
    "from tqdm.notebook import tqdm\n",
    "\n",
    "from collections import Counter"
   ]
  },
  {
   "cell_type": "code",
   "execution_count": 2,
   "id": "4d06306b",
   "metadata": {},
   "outputs": [],
   "source": [
    "# I retrieve the dataframe created in Wordle Setup notebook:\n",
    "\n",
    "all_words = pd.read_pickle('../data/words.pkl')"
   ]
  },
  {
   "cell_type": "code",
   "execution_count": 3,
   "id": "5ebf0c30",
   "metadata": {},
   "outputs": [],
   "source": [
    "letters = [letter for letter in string.ascii_lowercase]\n",
    "positions = [f'{position}{letter}' for letter in letters for position in range(1, 6)]"
   ]
  },
  {
   "cell_type": "code",
   "execution_count": 4,
   "id": "6ace30f7",
   "metadata": {},
   "outputs": [],
   "source": [
    "# The \"guess_word\" function takes the current state of the word DataFrame, and returns the best possible guess.\n",
    "# This function can be modified if the metric for evaluation changes.\n",
    "\n",
    "def guess_word(words):\n",
    "    best_words = words['score'].sort_values(ascending=False)\n",
    "    best_guess = best_words.index[0]\n",
    "            \n",
    "    return best_guess"
   ]
  },
  {
   "cell_type": "code",
   "execution_count": 5,
   "id": "213c1299",
   "metadata": {},
   "outputs": [],
   "source": [
    "# The \"evaluate_guess\" function takes the guessed word, and returns the evaluation for each letter.\n",
    "# The function makes three passes through the letters in the guessed word.\n",
    "#\n",
    "# On the first pass, \"green\" letters are found.\n",
    "# \"Green\" letters are letters in the guessed word that are in the solution word and also in the same position.\n",
    "#\n",
    "# On the second pass, \"yellow\" and \"black\" letters are found.\n",
    "# \"Yellow\" letters are letters in the guessed word that are in the solution word but not in the same position.\n",
    "# \"Black\" letters are letters in the guessed word that are not in the solution word.\n",
    "# \n",
    "# The evaluations (\"green\", \"yellow\", or \"black\") determine which words can be eliminated as potential solutions.\n",
    "# During the second and third passes, the function eliminates invalid words from the solution set.\n",
    "\n",
    "\n",
    "def evaluate_guess(guess, solution, words, guessed_p):    \n",
    "    result = ['?', '?', '?', '?', '?']\n",
    "\n",
    "    guess_counts = Counter(guess)\n",
    "    solution_counts = Counter(solution)\n",
    "    \n",
    "    green_counts = Counter()\n",
    "    yellow_counts = Counter()\n",
    "\n",
    "    # First pass\n",
    "    for pos in range(5):\n",
    "        letter = guess[pos]\n",
    "        index = (ord(letter) - ord('a')) * 5 + pos\n",
    "        guessed_p[index] = 0\n",
    "        \n",
    "        if solution[pos] == letter:\n",
    "            result[pos] = 'g'\n",
    "            green_counts[letter] += 1\n",
    "            \n",
    "    # Second pass\n",
    "    for pos in range(5):\n",
    "        letter = guess[pos]\n",
    "        position = f'{pos+1}{letter}'\n",
    "\n",
    "        if result[pos] == 'g':\n",
    "            words['is_valid'] *= words[position].values.astype(bool)\n",
    "\n",
    "        elif solution_counts[letter] - (green_counts[letter] + yellow_counts[letter]) > 0:\n",
    "            result[pos] = 'y'\n",
    "            words['is_valid'] *= ~words[position].values.astype(bool)\n",
    "            yellow_counts[letter] += 1\n",
    "            \n",
    "        else:\n",
    "            result[pos] = 'b'\n",
    "            if green_counts[letter] > 0:\n",
    "                for i in range(pos, 5):\n",
    "                    if not (guess[i] == letter and result[i] == 'g'):\n",
    "                        words['is_valid'] *= ~words[f'{i+1}{letter}'].values.astype(bool)\n",
    "            elif yellow_counts[letter] > 0:\n",
    "                words['is_valid'] *= ~words[position].values.astype(bool)\n",
    "            else:\n",
    "                words['is_valid'] *= ~words[letter].astype(bool)\n",
    "                \n",
    "    # Final pass\n",
    "    for letter in set(guess):\n",
    "        if (letter_count := (green_counts[letter] + yellow_counts[letter])) > 0:\n",
    "            words['is_valid'] *= (words[letter].values >= letter_count)\n",
    "        \n",
    "    return ''.join(result)"
   ]
  },
  {
   "cell_type": "code",
   "execution_count": 6,
   "id": "423de546",
   "metadata": {},
   "outputs": [],
   "source": [
    "# The \"adjust_score\" function recalculates the \"letter score\" and \"position score\" for each word.\n",
    "# The process for calculating these scores is identical to the process in the Wordle Setup notebook.\n",
    "\n",
    "def adjust_score(words, words_l, words_p, guessed_p):\n",
    "    valid_words = words[words['is_valid']]\n",
    "    \n",
    "    valid_positions = valid_words[positions].values\n",
    "\n",
    "    position_scores = np.sum(valid_positions * guessed_p, axis=0) / len(valid_words) * 100\n",
    "    \n",
    "    letter_scores = position_scores.reshape((-1, 5)).sum(axis=1)\n",
    "    \n",
    "    words['letter_score'] = np.sum(letter_scores * words_l, axis=1)\n",
    "        \n",
    "    words['position_score'] = np.sum(position_scores * words_p, axis=1)\n",
    "    \n",
    "    words['score'] = words['letter_score'] + words['position_score']"
   ]
  },
  {
   "cell_type": "code",
   "execution_count": 7,
   "id": "4f86025a",
   "metadata": {},
   "outputs": [],
   "source": [
    "# The \"solve_word\" function takes a word and returns the number of guesses it takes to solve for that word.\n",
    "# If the solution word is not guessed within six attempts, it returns a penalty of 100 guesses.\n",
    "#\n",
    "# If there is only one valid word remaining, the function returns the current guess number.\n",
    "#\n",
    "# If there are only two valid words, the function guesses the first of the two words.\n",
    "# Without this optimization, the algorithm will always guess an invalid word to eliminate one of the valid words.\n",
    "\n",
    "\n",
    "def solve_word(solution):\n",
    "    words = all_words.copy()\n",
    "\n",
    "    words_l = words[letters].astype(bool).values\n",
    "    words_p = words[positions].values\n",
    "\n",
    "    guessed_p = np.ones((len(positions),), dtype=int)\n",
    "    \n",
    "    for guess_num in range(1, 7):\n",
    "        valid_words = words[words['is_valid']]\n",
    "        if len(valid_words) == 1:\n",
    "            return guess_num\n",
    "        elif len(valid_words) == 2:\n",
    "            guess = valid_words.index[0]\n",
    "        else:\n",
    "            guess = guess_word(words)\n",
    "            \n",
    "        result = evaluate_guess(guess, solution, words, guessed_p)\n",
    "        \n",
    "        if result == 'ggggg':\n",
    "            return guess_num\n",
    "        \n",
    "        adjust_score(words, words_l, words_p, guessed_p)\n",
    "            \n",
    "    # Penalty for failure to solve within 6 guesses.\n",
    "    print(solution)\n",
    "    return 100"
   ]
  },
  {
   "cell_type": "code",
   "execution_count": 8,
   "id": "c341f588",
   "metadata": {
    "scrolled": false
   },
   "outputs": [
    {
     "data": {
      "application/vnd.jupyter.widget-view+json": {
       "model_id": "825c8b8cef7649eb8266dca1a0dd8a96",
       "version_major": 2,
       "version_minor": 0
      },
      "text/plain": [
       "  0%|          | 0/2315 [00:00<?, ?it/s]"
      ]
     },
     "metadata": {},
     "output_type": "display_data"
    }
   ],
   "source": [
    "# When I first solved for all 2315 words, the function solved six words every second on my machine.\n",
    "# After optimizing for performance, the function solves 25 words every second on my machine.\n",
    "\n",
    "solutions = [solve_word(valid_word) for valid_word in tqdm(all_words[all_words['is_valid']].index)]"
   ]
  },
  {
   "cell_type": "code",
   "execution_count": 9,
   "id": "f845341e",
   "metadata": {},
   "outputs": [],
   "source": [
    "solutions = pd.DataFrame(solutions, columns=['guesses']).sort_values('guesses')"
   ]
  },
  {
   "cell_type": "code",
   "execution_count": 10,
   "id": "c908a827",
   "metadata": {
    "scrolled": true
   },
   "outputs": [
    {
     "data": {
      "image/png": "[encoded data removed]",
      "text/plain": [
       "<Figure size 432x288 with 1 Axes>"
      ]
     },
     "metadata": {
      "needs_background": "light"
     },
     "output_type": "display_data"
    }
   ],
   "source": [
    "# I make a count plot to visualize how well the algorithm performs:\n",
    "\n",
    "plt.rcParams.update({'font.size': 14})\n",
    "ax = sns.countplot(x=solutions.guesses)\n",
    "_ = ax.bar_label(ax.containers[0])\n",
    "_ = ax.margins(y=0.1)\n",
    "_ = plt.title(\"Frequency of Guess Count\")\n",
    "_ = plt.savefig('../results.png')\n",
    "\n",
    "# Most words are solved in four guesses or fewer.\n",
    "# Every word is solved within the required six-guess limit.\n",
    "# These are the words that take six guesses to solve:\n",
    "# maker, waver, rarer, riper, revel, taunt, hatch, wedge, vouch, hitch, tight, daddy"
   ]
  },
  {
   "cell_type": "code",
   "execution_count": 11,
   "id": "88baf822",
   "metadata": {
    "scrolled": true
   },
   "outputs": [
    {
     "data": {
      "text/plain": [
       "3.66"
      ]
     },
     "execution_count": 11,
     "metadata": {},
     "output_type": "execute_result"
    }
   ],
   "source": [
    "# The mean guess count:\n",
    "\n",
    "round(np.mean(solutions.guesses), 2)"
   ]
  },
  {
   "cell_type": "code",
   "execution_count": 12,
   "id": "744011fd",
   "metadata": {},
   "outputs": [
    {
     "data": {
      "text/plain": [
       "8477"
      ]
     },
     "execution_count": 12,
     "metadata": {},
     "output_type": "execute_result"
    }
   ],
   "source": [
    "# The total number of guesses for all words:\n",
    "\n",
    "np.sum(solutions.guesses)\n",
    "\n",
    "# This is the number that I would use to compare my algorithm with others.\n",
    "# There are many ways that I could improve my algorithm from here.\n",
    "# I could adjust the ratio between the \"position score\" and the \"letter score.\"\n",
    "# I could also try different words for the first guess."
   ]
  }
 ],
 "metadata": {
  "kernelspec": {
   "display_name": "Python 3 (ipykernel)",
   "language": "python",
   "name": "python3"
  },
  "language_info": {
   "codemirror_mode": {
    "name": "ipython",
    "version": 3
   },
   "file_extension": ".py",
   "mimetype": "text/x-python",
   "name": "python",
   "nbconvert_exporter": "python",
   "pygments_lexer": "ipython3",
   "version": "3.10.0"
  }
 },
 "nbformat": 4,
 "nbformat_minor": 5
}
